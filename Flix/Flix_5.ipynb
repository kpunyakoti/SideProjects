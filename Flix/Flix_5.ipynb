{
 "cells": [
  {
   "cell_type": "code",
   "execution_count": 1,
   "metadata": {},
   "outputs": [],
   "source": [
    "#basic essential libraries\n",
    "import pandas as pd\n",
    "import numpy as np\n",
    "import string\n",
    "from math import sqrt\n",
    "from sklearn.metrics import mean_squared_error as mse\n",
    "from sklearn.metrics import mean_absolute_error\n",
    "\n",
    "from statsmodels.tsa.arima_model import ARIMA\n",
    "\n",
    "#to ignore warning messages\n",
    "import warnings\n",
    "warnings.filterwarnings('ignore')\n",
    "from subprocess import check_output"
   ]
  },
  {
   "cell_type": "code",
   "execution_count": 2,
   "metadata": {},
   "outputs": [],
   "source": [
    "#Data visualization\n",
    "import matplotlib as mpl\n",
    "import matplotlib.pyplot as plt\n",
    "import matplotlib.pylab as pylab\n",
    "import seaborn as sns\n",
    "\n",
    "#set visual parameters\n",
    "%matplotlib inline\n",
    "mpl.style.use('ggplot')\n",
    "sns.set_style('white')\n",
    "pylab.rcParams['figure.figsize'] = 10,6"
   ]
  },
  {
   "cell_type": "code",
   "execution_count": 38,
   "metadata": {},
   "outputs": [],
   "source": [
    "PATH = \"C:/Users/kpunyakoti/Desktop/Future/Flix/Data/fullsets/\"\n",
    "PATH2 = \"C:/Users/kpunyakoti/Desktop/Future/Flix/Data/\""
   ]
  },
  {
   "cell_type": "code",
   "execution_count": 53,
   "metadata": {},
   "outputs": [],
   "source": [
    "train = pd.read_csv(f'{PATH}train_full.csv')\n",
    "test = pd.read_csv(f'{PATH}sub.csv')\n",
    "dp = pd.read_csv(f'{PATH2}datapoint.csv')"
   ]
  },
  {
   "cell_type": "code",
   "execution_count": 56,
   "metadata": {},
   "outputs": [],
   "source": [
    "cols_str = ['country_1', 'channel_id']\n",
    "for x in cols_str:\n",
    "    train[x] = train[x].astype(str)\n",
    "    test[x] = test[x].astype(str)\n",
    "    dp[x] = dp[x].astype(str)"
   ]
  },
  {
   "cell_type": "code",
   "execution_count": 57,
   "metadata": {},
   "outputs": [],
   "source": [
    "train['cc'] = train.country_1+'_'+train.channel_id\n",
    "test['cc'] = test.country_1+'_'+test.channel_id\n",
    "dp['cc'] = dp.country_1+'_'+dp.channel_id"
   ]
  },
  {
   "cell_type": "code",
   "execution_count": 58,
   "metadata": {},
   "outputs": [],
   "source": [
    "train['date'] = pd.to_datetime(train['date'])\n",
    "test['date'] = pd.to_datetime(test['date'])"
   ]
  },
  {
   "cell_type": "code",
   "execution_count": 59,
   "metadata": {},
   "outputs": [],
   "source": [
    "actual_test = test.copy()"
   ]
  },
  {
   "cell_type": "code",
   "execution_count": 60,
   "metadata": {},
   "outputs": [],
   "source": [
    "test['tickets'] = np.nan"
   ]
  },
  {
   "cell_type": "code",
   "execution_count": 61,
   "metadata": {},
   "outputs": [],
   "source": [
    "cc_minor = dp.loc[dp['rowcount']<25, 'cc']"
   ]
  },
  {
   "cell_type": "code",
   "execution_count": 62,
   "metadata": {},
   "outputs": [],
   "source": [
    "for i in cc_minor.values:\n",
    "    test.loc[test['cc'] == i, 'tickets'] = 0"
   ]
  },
  {
   "cell_type": "code",
   "execution_count": 63,
   "metadata": {},
   "outputs": [],
   "source": [
    "cc_major = dp.loc[~dp.cc.isin(cc_minor.values), 'cc']"
   ]
  },
  {
   "cell_type": "code",
   "execution_count": 64,
   "metadata": {},
   "outputs": [
    {
     "data": {
      "text/html": [
       "<div>\n",
       "<style scoped>\n",
       "    .dataframe tbody tr th:only-of-type {\n",
       "        vertical-align: middle;\n",
       "    }\n",
       "\n",
       "    .dataframe tbody tr th {\n",
       "        vertical-align: top;\n",
       "    }\n",
       "\n",
       "    .dataframe thead th {\n",
       "        text-align: right;\n",
       "    }\n",
       "</style>\n",
       "<table border=\"1\" class=\"dataframe\">\n",
       "  <thead>\n",
       "    <tr style=\"text-align: right;\">\n",
       "      <th></th>\n",
       "      <th>date</th>\n",
       "      <th>country_1</th>\n",
       "      <th>channel_id</th>\n",
       "      <th>cc</th>\n",
       "      <th>tickets</th>\n",
       "    </tr>\n",
       "  </thead>\n",
       "  <tbody>\n",
       "    <tr>\n",
       "      <th>0</th>\n",
       "      <td>2018-02-27</td>\n",
       "      <td>1</td>\n",
       "      <td>1</td>\n",
       "      <td>1_1</td>\n",
       "      <td>0.0</td>\n",
       "    </tr>\n",
       "    <tr>\n",
       "      <th>1</th>\n",
       "      <td>2018-02-27</td>\n",
       "      <td>1</td>\n",
       "      <td>13</td>\n",
       "      <td>1_13</td>\n",
       "      <td>0.0</td>\n",
       "    </tr>\n",
       "    <tr>\n",
       "      <th>2</th>\n",
       "      <td>2018-02-27</td>\n",
       "      <td>1</td>\n",
       "      <td>17</td>\n",
       "      <td>1_17</td>\n",
       "      <td>0.0</td>\n",
       "    </tr>\n",
       "    <tr>\n",
       "      <th>3</th>\n",
       "      <td>2018-02-27</td>\n",
       "      <td>1</td>\n",
       "      <td>2</td>\n",
       "      <td>1_2</td>\n",
       "      <td>0.0</td>\n",
       "    </tr>\n",
       "    <tr>\n",
       "      <th>4</th>\n",
       "      <td>2018-02-27</td>\n",
       "      <td>1</td>\n",
       "      <td>23</td>\n",
       "      <td>1_23</td>\n",
       "      <td>0.0</td>\n",
       "    </tr>\n",
       "  </tbody>\n",
       "</table>\n",
       "</div>"
      ],
      "text/plain": [
       "        date country_1 channel_id    cc  tickets\n",
       "0 2018-02-27         1          1   1_1      0.0\n",
       "1 2018-02-27         1         13  1_13      0.0\n",
       "2 2018-02-27         1         17  1_17      0.0\n",
       "3 2018-02-27         1          2   1_2      0.0\n",
       "4 2018-02-27         1         23  1_23      0.0"
      ]
     },
     "execution_count": 64,
     "metadata": {},
     "output_type": "execute_result"
    }
   ],
   "source": [
    "test.head()"
   ]
  },
  {
   "cell_type": "code",
   "execution_count": 65,
   "metadata": {},
   "outputs": [
    {
     "name": "stdout",
     "output_type": "stream",
     "text": [
      "605\n",
      "207\n"
     ]
    }
   ],
   "source": [
    "print(len(cc_minor.values))\n",
    "print(len(cc_major.values))"
   ]
  },
  {
   "cell_type": "markdown",
   "metadata": {},
   "source": [
    "#### Run from here safely"
   ]
  },
  {
   "cell_type": "code",
   "execution_count": 66,
   "metadata": {},
   "outputs": [],
   "source": [
    "new_train = train.loc[train.cc.isin(cc_major.values)]\n",
    "new_test = test.loc[test.cc.isin(cc_major.values)]"
   ]
  },
  {
   "cell_type": "code",
   "execution_count": 67,
   "metadata": {},
   "outputs": [],
   "source": [
    "forecast_dates = new_test.date.unique()"
   ]
  },
  {
   "cell_type": "code",
   "execution_count": 68,
   "metadata": {},
   "outputs": [
    {
     "data": {
      "text/html": [
       "<div>\n",
       "<style scoped>\n",
       "    .dataframe tbody tr th:only-of-type {\n",
       "        vertical-align: middle;\n",
       "    }\n",
       "\n",
       "    .dataframe tbody tr th {\n",
       "        vertical-align: top;\n",
       "    }\n",
       "\n",
       "    .dataframe thead th {\n",
       "        text-align: right;\n",
       "    }\n",
       "</style>\n",
       "<table border=\"1\" class=\"dataframe\">\n",
       "  <thead>\n",
       "    <tr style=\"text-align: right;\">\n",
       "      <th></th>\n",
       "      <th>date</th>\n",
       "      <th>country_1</th>\n",
       "      <th>channel_id</th>\n",
       "      <th>cc</th>\n",
       "      <th>tickets</th>\n",
       "    </tr>\n",
       "  </thead>\n",
       "  <tbody>\n",
       "    <tr>\n",
       "      <th>9</th>\n",
       "      <td>2018-02-27</td>\n",
       "      <td>1</td>\n",
       "      <td>28</td>\n",
       "      <td>1_28</td>\n",
       "      <td>NaN</td>\n",
       "    </tr>\n",
       "    <tr>\n",
       "      <th>15</th>\n",
       "      <td>2018-02-27</td>\n",
       "      <td>1</td>\n",
       "      <td>35</td>\n",
       "      <td>1_35</td>\n",
       "      <td>NaN</td>\n",
       "    </tr>\n",
       "    <tr>\n",
       "      <th>17</th>\n",
       "      <td>2018-02-27</td>\n",
       "      <td>1</td>\n",
       "      <td>37</td>\n",
       "      <td>1_37</td>\n",
       "      <td>NaN</td>\n",
       "    </tr>\n",
       "    <tr>\n",
       "      <th>19</th>\n",
       "      <td>2018-02-27</td>\n",
       "      <td>1</td>\n",
       "      <td>39</td>\n",
       "      <td>1_39</td>\n",
       "      <td>NaN</td>\n",
       "    </tr>\n",
       "    <tr>\n",
       "      <th>29</th>\n",
       "      <td>2018-02-27</td>\n",
       "      <td>11</td>\n",
       "      <td>1</td>\n",
       "      <td>11_1</td>\n",
       "      <td>NaN</td>\n",
       "    </tr>\n",
       "  </tbody>\n",
       "</table>\n",
       "</div>"
      ],
      "text/plain": [
       "         date country_1 channel_id    cc  tickets\n",
       "9  2018-02-27         1         28  1_28      NaN\n",
       "15 2018-02-27         1         35  1_35      NaN\n",
       "17 2018-02-27         1         37  1_37      NaN\n",
       "19 2018-02-27         1         39  1_39      NaN\n",
       "29 2018-02-27        11          1  11_1      NaN"
      ]
     },
     "execution_count": 68,
     "metadata": {},
     "output_type": "execute_result"
    }
   ],
   "source": [
    "new_test.head()"
   ]
  },
  {
   "cell_type": "markdown",
   "metadata": {},
   "source": [
    "## Forecast Loop"
   ]
  },
  {
   "cell_type": "code",
   "execution_count": 70,
   "metadata": {},
   "outputs": [],
   "source": [
    "def blackmamba(cc, train):\n",
    "    tf = train.loc[train.cc == cc, ['date','tickets']]\n",
    "    tf.sort_values('date', inplace=True)\n",
    "    tf.set_index('date', inplace=True)\n",
    "    \n",
    "    df_logscale = np.log1p(tf) #log transformation for stationarity \n",
    "    \n",
    "    dflogshift = df_logscale - df_logscale.shift() #one shift of logvalues for better statiotionarity\n",
    "    dflogshift.dropna(inplace=True)\n",
    "    \n",
    "    results = arima_tune(df_logscale, dflogshift.tickets) #call timeseries model to get the best model after tuning\n",
    "    \n",
    "    best_pqd = min(results, key = results.get)\n",
    "    best_rss, best_model = results.get(best_pqd)\n",
    "    \n",
    "    preds_array = best_model.forecast(steps = 22, alpha = 0.05)[0]\n",
    "    final_preds = np.round(np.expm1(preds_array))\n",
    "    \n",
    "    return final_preds"
   ]
  },
  {
   "cell_type": "code",
   "execution_count": 71,
   "metadata": {},
   "outputs": [],
   "source": [
    "def arima_tune(logscale, logshift):\n",
    "    results = {}\n",
    "    for AR in range(0,8):\n",
    "        for MA in range(0,8):\n",
    "            model = ARIMA(logscale, order = (AR,1,MA))\n",
    "            fit_is_available = False\n",
    "            results_ARIMA = None\n",
    "            try:\n",
    "                results_ARIMA = model.fit(disp = -1, method = 'css')\n",
    "                fit_is_available = True\n",
    "            except:\n",
    "                continue\n",
    "            if fit_is_available:\n",
    "                RSS = get_rss(logshift, results_ARIMA.fittedvalues)\n",
    "                results['%d-1-%d' % (AR,MA)]=[RSS, results_ARIMA]\n",
    "    return results"
   ]
  },
  {
   "cell_type": "code",
   "execution_count": 69,
   "metadata": {},
   "outputs": [],
   "source": [
    "def get_rss(series, fits):\n",
    "    fits_new = fits  \n",
    "    missing_idx = list(set(series.index).difference(set(fits_new.index)))\n",
    "    if missing_idx:\n",
    "        nan_series = pd.Series(index = pd.to_datetime(missing_idx))\n",
    "        fits_new = fits_new.append(nan_series)\n",
    "        fits_new.sort_index(inplace = True)\n",
    "        fits_new.fillna(method = 'bfill', inplace = True) \n",
    "        fits_new.fillna(method = 'ffill', inplace = True)\n",
    "    return sum((fits_new - series)**2)"
   ]
  },
  {
   "cell_type": "code",
   "execution_count": null,
   "metadata": {},
   "outputs": [],
   "source": [
    "counter = 207\n",
    "for cc in cc_major.values:\n",
    "    print('Forecasting cc: {}'.format(cc))\n",
    "    print(counter, ' left')\n",
    "    preds = blackmamba(cc,new_train)\n",
    "    \n",
    "    i = 0\n",
    "    for d in forecast_dates:\n",
    "        new_test.loc[((new_test.date == d)&(new_test.cc==cc)), 'tickets'] = preds[i]\n",
    "        i+=1    \n",
    "    counter -=1"
   ]
  },
  {
   "cell_type": "markdown",
   "metadata": {},
   "source": [
    "### Submission"
   ]
  },
  {
   "cell_type": "code",
   "execution_count": 78,
   "metadata": {},
   "outputs": [],
   "source": [
    "store_file = new_test.copy()"
   ]
  },
  {
   "cell_type": "code",
   "execution_count": 101,
   "metadata": {},
   "outputs": [],
   "source": [
    "def submission(new_test):\n",
    "    new_test['tickets'] =new_test['tickets'].astype(int)\n",
    "    new_test['tickets'] =new_test['tickets'].astype(str)\n",
    "    \n",
    "    test.tickets.fillna(0, inplace=True)\n",
    "    test['tickets'] = test['tickets'].astype(int)\n",
    "    \n",
    "    final_submission = pd.merge(test, new_test, how = 'left', on = ['date', 'country_1', 'channel_id', 'cc'])\n",
    "    final_submission.tickets_y.fillna(0, inplace=True)\n",
    "\n",
    "    final_submission['tickets_y'] = final_submission['tickets_y'].astype(int)\n",
    "    final_submission['tickets'] = final_submission.tickets_x+final_submission.tickets_y\n",
    "    \n",
    "    final_submission.drop(['tickets_x','tickets_y', 'cc'], axis = 1, inplace= True)\n",
    "    \n",
    "    return final_submission"
   ]
  },
  {
   "cell_type": "code",
   "execution_count": 102,
   "metadata": {},
   "outputs": [],
   "source": [
    "submission = submission(new_test)"
   ]
  },
  {
   "cell_type": "code",
   "execution_count": 104,
   "metadata": {},
   "outputs": [],
   "source": [
    "submission.to_csv(f'{PATH}final_sub.csv')"
   ]
  },
  {
   "cell_type": "markdown",
   "metadata": {},
   "source": [
    "### CC_Metrics"
   ]
  },
  {
   "cell_type": "code",
   "execution_count": 105,
   "metadata": {},
   "outputs": [],
   "source": [
    "def cc_met(cc, train):\n",
    "    tf = train.loc[train.cc == cc, ['date','tickets']]\n",
    "    tf.sort_values('date', inplace=True)\n",
    "    tf.set_index('date', inplace=True)\n",
    "    \n",
    "    df_logscale = np.log1p(tf)\n",
    "    \n",
    "    dflogshift = df_logscale - df_logscale.shift()\n",
    "    dflogshift.dropna(inplace=True)\n",
    "    \n",
    "    best_pdq, best_rss = cc_arima(df_logscale, dflogshift.tickets)\n",
    "    \n",
    "    return best_pdq, best_rss"
   ]
  },
  {
   "cell_type": "code",
   "execution_count": 106,
   "metadata": {},
   "outputs": [],
   "source": [
    "def cc_arima(logscale, logshift):\n",
    "    results = {}\n",
    "    for AR in range(0,8):\n",
    "        for MA in range(0,8):\n",
    "            model = ARIMA(logscale, order = (AR,1,MA))\n",
    "            fit_is_available = False\n",
    "            results_ARIMA = None\n",
    "            try:\n",
    "                results_ARIMA = model.fit(disp = -1, method = 'css')\n",
    "                fit_is_available = True\n",
    "            except:\n",
    "                continue\n",
    "            if fit_is_available:\n",
    "                RSS = get_RSS(logshift, results_ARIMA.fittedvalues)\n",
    "                results['%d-1-%d' % (AR,MA)]=[RSS, results_ARIMA]\n",
    "    best_pdq = min(results, key = results.get)\n",
    "    best_rss, best_model = results.get(best_pdq)\n",
    "    \n",
    "    return best_pdq, best_rss"
   ]
  },
  {
   "cell_type": "code",
   "execution_count": null,
   "metadata": {},
   "outputs": [],
   "source": [
    "df_cols = ['country', 'channel', 'best_p-d-q', 'best_RSS']\n",
    "cc_metrics_full = pd.DataFrame(columns=df_cols)\n",
    "row_index=0\n",
    "for cc in cc_major.values:\n",
    "    country, channel = cc.split('_')\n",
    "    pdq, rss = cc_met(cc,new_train)\n",
    "    \n",
    "    cc_metrics_full.loc[row_index, 'country'] = country\n",
    "    cc_metrics_full.loc[row_index, 'channel'] = channel\n",
    "    cc_metrics_full.loc[row_index, 'best_p-d-q'] = pdq\n",
    "    cc_metrics_full.loc[row_index, 'best_RSS'] = rss\n",
    "       \n",
    "    row_index +=1\n",
    "    print(row_index,'|', country,'|', channel,'|', pdq,'|', rss)"
   ]
  },
  {
   "cell_type": "code",
   "execution_count": 108,
   "metadata": {},
   "outputs": [
    {
     "data": {
      "text/html": [
       "<div>\n",
       "<style scoped>\n",
       "    .dataframe tbody tr th:only-of-type {\n",
       "        vertical-align: middle;\n",
       "    }\n",
       "\n",
       "    .dataframe tbody tr th {\n",
       "        vertical-align: top;\n",
       "    }\n",
       "\n",
       "    .dataframe thead th {\n",
       "        text-align: right;\n",
       "    }\n",
       "</style>\n",
       "<table border=\"1\" class=\"dataframe\">\n",
       "  <thead>\n",
       "    <tr style=\"text-align: right;\">\n",
       "      <th></th>\n",
       "      <th>country</th>\n",
       "      <th>channel</th>\n",
       "      <th>best_p-d-q</th>\n",
       "      <th>best_RSS</th>\n",
       "    </tr>\n",
       "  </thead>\n",
       "  <tbody>\n",
       "    <tr>\n",
       "      <th>0</th>\n",
       "      <td>20</td>\n",
       "      <td>26</td>\n",
       "      <td>1-1-4</td>\n",
       "      <td>44.7099</td>\n",
       "    </tr>\n",
       "    <tr>\n",
       "      <th>1</th>\n",
       "      <td>20</td>\n",
       "      <td>28</td>\n",
       "      <td>2-1-5</td>\n",
       "      <td>146.68</td>\n",
       "    </tr>\n",
       "    <tr>\n",
       "      <th>2</th>\n",
       "      <td>20</td>\n",
       "      <td>29</td>\n",
       "      <td>4-1-5</td>\n",
       "      <td>21.1295</td>\n",
       "    </tr>\n",
       "    <tr>\n",
       "      <th>3</th>\n",
       "      <td>20</td>\n",
       "      <td>31</td>\n",
       "      <td>6-1-3</td>\n",
       "      <td>82.8488</td>\n",
       "    </tr>\n",
       "    <tr>\n",
       "      <th>4</th>\n",
       "      <td>20</td>\n",
       "      <td>35</td>\n",
       "      <td>4-1-6</td>\n",
       "      <td>195.592</td>\n",
       "    </tr>\n",
       "  </tbody>\n",
       "</table>\n",
       "</div>"
      ],
      "text/plain": [
       "  country channel best_p-d-q best_RSS\n",
       "0      20      26      1-1-4  44.7099\n",
       "1      20      28      2-1-5   146.68\n",
       "2      20      29      4-1-5  21.1295\n",
       "3      20      31      6-1-3  82.8488\n",
       "4      20      35      4-1-6  195.592"
      ]
     },
     "execution_count": 108,
     "metadata": {},
     "output_type": "execute_result"
    }
   ],
   "source": [
    "cc_metrics_full.head()"
   ]
  },
  {
   "cell_type": "code",
   "execution_count": 109,
   "metadata": {},
   "outputs": [],
   "source": [
    "cc_metrics_full.to_csv(f'{PATH}cc_metrics_full.csv')"
   ]
  },
  {
   "cell_type": "code",
   "execution_count": 118,
   "metadata": {},
   "outputs": [],
   "source": [
    "pc = train.loc[((train.country_1 == '12')& (train.channel_id=='37')),['date','tickets']]"
   ]
  },
  {
   "cell_type": "code",
   "execution_count": 129,
   "metadata": {},
   "outputs": [
    {
     "data": {
      "text/plain": [
       "[<matplotlib.lines.Line2D at 0x22b67789da0>]"
      ]
     },
     "execution_count": 129,
     "metadata": {},
     "output_type": "execute_result"
    },
    {
     "data": {
      "image/png": "[encoded data removed]",
      "text/plain": [
       "<Figure size 432x288 with 1 Axes>"
      ]
     },
     "metadata": {},
     "output_type": "display_data"
    }
   ],
   "source": [
    "plt.plot(pc.date, pc.tickets,'-', color='black', linewidth = 0.7)"
   ]
  },
  {
   "cell_type": "code",
   "execution_count": null,
   "metadata": {},
   "outputs": [],
   "source": []
  }
 ],
 "metadata": {
  "kernelspec": {
   "display_name": "Python 3",
   "language": "python",
   "name": "python3"
  },
  "language_info": {
   "codemirror_mode": {
    "name": "ipython",
    "version": 3
   },
   "file_extension": ".py",
   "mimetype": "text/x-python",
   "name": "python",
   "nbconvert_exporter": "python",
   "pygments_lexer": "ipython3",
   "version": "3.6.5"
  }
 },
 "nbformat": 4,
 "nbformat_minor": 2
}
