{
 "cells": [
  {
   "cell_type": "code",
   "execution_count": 1,
   "metadata": {},
   "outputs": [],
   "source": [
    "# importing necessary packages\n",
    "import numpy as np \n",
    "import pandas as pd \n",
    "import lightgbm as lgb\n",
    "import statsmodels.api as sm\n",
    "import matplotlib.pyplot as plt\n",
    "from sklearn.metrics import mean_absolute_error\n",
    "from sklearn.model_selection import train_test_split"
   ]
  },
  {
   "cell_type": "code",
   "execution_count": 5,
   "metadata": {},
   "outputs": [],
   "source": [
    "import warnings\n",
    "warnings.filterwarnings('ignore')\n",
    "from subprocess import check_output"
   ]
  },
  {
   "cell_type": "code",
   "execution_count": 2,
   "metadata": {},
   "outputs": [],
   "source": [
    "PATH2 = \"C:/Users/kpunyakoti/Desktop/Future/Flix/Data/traintest/\""
   ]
  },
  {
   "cell_type": "code",
   "execution_count": 28,
   "metadata": {},
   "outputs": [],
   "source": [
    "# defining some functions\n",
    "def smape(x, x_):\n",
    "    \"\"\"Return the smape value for two arrays.\"\"\"\n",
    "    return 100 * np.mean(2 * np.abs(x - x_)/(np.abs(x) + np.abs(x_)))\n",
    "    \n",
    "def linear_fit_slope(y):\n",
    "    \"\"\"Return the slope of a linear fit to a series.\"\"\"\n",
    "    y_pure = y.dropna()\n",
    "    length = len(y_pure)\n",
    "    x = np.arange(0, length)\n",
    "    slope, intercept = np.polyfit(x, y_pure.values, deg=1)\n",
    "    return slope\n",
    "\n",
    "def linear_fit_intercept(y):\n",
    "    \"\"\"Return the intercept of a linear fit to a series.\"\"\"\n",
    "    y_pure = y.dropna()\n",
    "    length = len(y_pure)\n",
    "    x = np.arange(0, length)\n",
    "    slope, intercept = np.polyfit(x, y_pure.values, deg=1)\n",
    "    return intercept"
   ]
  },
  {
   "cell_type": "code",
   "execution_count": 29,
   "metadata": {},
   "outputs": [],
   "source": [
    "# importing input datasets\n",
    "train = pd.read_csv(f'{PATH2}train.csv', parse_dates=True, index_col=['date'])\n",
    "test = pd.read_csv(f'{PATH2}test.csv', parse_dates=True, index_col=['date'])\n",
    "\n",
    "# concatenating train and test data frames\n",
    "test['tickets'] = np.nan\n",
    "df = pd.concat([train, test.loc[:, ['country_1', 'channel_id', 'tickets']]]).sort_values(by=['country_1', 'channel_id'])\n",
    "\n",
    "# adding some time-related factors\n",
    "df['month'] = df.index.month\n",
    "df['day'] = df.index.day\n",
    "df['dayofwk'] = df.index.weekday\n",
    "df['week_num'] = [int(x) for x in np.floor((df.index - pd.to_datetime('2016-12-31')).days/7) + 1]\n",
    "#df['quarter_block_num'] = (df.index.year - 2013) * 4 + df['quarter']"
   ]
  },
  {
   "cell_type": "code",
   "execution_count": 30,
   "metadata": {},
   "outputs": [
    {
     "data": {
      "text/html": [
       "<div>\n",
       "<style scoped>\n",
       "    .dataframe tbody tr th:only-of-type {\n",
       "        vertical-align: middle;\n",
       "    }\n",
       "\n",
       "    .dataframe tbody tr th {\n",
       "        vertical-align: top;\n",
       "    }\n",
       "\n",
       "    .dataframe thead th {\n",
       "        text-align: right;\n",
       "    }\n",
       "</style>\n",
       "<table border=\"1\" class=\"dataframe\">\n",
       "  <thead>\n",
       "    <tr style=\"text-align: right;\">\n",
       "      <th></th>\n",
       "      <th>country_1</th>\n",
       "      <th>channel_id</th>\n",
       "      <th>tickets</th>\n",
       "      <th>month</th>\n",
       "      <th>day</th>\n",
       "      <th>dayofwk</th>\n",
       "      <th>week_num</th>\n",
       "    </tr>\n",
       "    <tr>\n",
       "      <th>date</th>\n",
       "      <th></th>\n",
       "      <th></th>\n",
       "      <th></th>\n",
       "      <th></th>\n",
       "      <th></th>\n",
       "      <th></th>\n",
       "      <th></th>\n",
       "    </tr>\n",
       "  </thead>\n",
       "  <tbody>\n",
       "    <tr>\n",
       "      <th>2017-01-01</th>\n",
       "      <td>1</td>\n",
       "      <td>1</td>\n",
       "      <td>0.0</td>\n",
       "      <td>1</td>\n",
       "      <td>1</td>\n",
       "      <td>6</td>\n",
       "      <td>1</td>\n",
       "    </tr>\n",
       "    <tr>\n",
       "      <th>2017-01-02</th>\n",
       "      <td>1</td>\n",
       "      <td>1</td>\n",
       "      <td>0.0</td>\n",
       "      <td>1</td>\n",
       "      <td>2</td>\n",
       "      <td>0</td>\n",
       "      <td>1</td>\n",
       "    </tr>\n",
       "    <tr>\n",
       "      <th>2017-01-03</th>\n",
       "      <td>1</td>\n",
       "      <td>1</td>\n",
       "      <td>0.0</td>\n",
       "      <td>1</td>\n",
       "      <td>3</td>\n",
       "      <td>1</td>\n",
       "      <td>1</td>\n",
       "    </tr>\n",
       "    <tr>\n",
       "      <th>2017-01-04</th>\n",
       "      <td>1</td>\n",
       "      <td>1</td>\n",
       "      <td>0.0</td>\n",
       "      <td>1</td>\n",
       "      <td>4</td>\n",
       "      <td>2</td>\n",
       "      <td>1</td>\n",
       "    </tr>\n",
       "    <tr>\n",
       "      <th>2017-01-05</th>\n",
       "      <td>1</td>\n",
       "      <td>1</td>\n",
       "      <td>0.0</td>\n",
       "      <td>1</td>\n",
       "      <td>5</td>\n",
       "      <td>3</td>\n",
       "      <td>1</td>\n",
       "    </tr>\n",
       "  </tbody>\n",
       "</table>\n",
       "</div>"
      ],
      "text/plain": [
       "            country_1  channel_id  tickets  month  day  dayofwk  week_num\n",
       "date                                                                     \n",
       "2017-01-01          1           1      0.0      1    1        6         1\n",
       "2017-01-02          1           1      0.0      1    2        0         1\n",
       "2017-01-03          1           1      0.0      1    3        1         1\n",
       "2017-01-04          1           1      0.0      1    4        2         1\n",
       "2017-01-05          1           1      0.0      1    5        3         1"
      ]
     },
     "execution_count": 30,
     "metadata": {},
     "output_type": "execute_result"
    }
   ],
   "source": [
    "df.head()"
   ]
  },
  {
   "cell_type": "code",
   "execution_count": 31,
   "metadata": {},
   "outputs": [],
   "source": [
    "# detecting and handling outliers\n",
    "\n",
    "# finding the slope of a linear fit for sale values grouped by store, item and day of week\n",
    "lin_slope_df = df.groupby(['country_1', 'channel_id', 'dayofwk'])['tickets'].apply(linear_fit_slope).reset_index()\n",
    "lin_slope_df.columns = ['country_1', 'channel_id', 'dayofwk', 'lin_slope']\n",
    "df = df.reset_index().merge(lin_slope_df, how='left', on=['country_1', 'channel_id', 'dayofwk']).set_index('date')\n",
    "\n",
    "# finding the intercept of a linear fit for sale values grouped by store, item and day of week\n",
    "lin_intercept_df = df.groupby(['country_1', 'channel_id', 'dayofwk'])['tickets'].apply(linear_fit_intercept).reset_index()\n",
    "lin_intercept_df.columns = ['country_1', 'channel_id', 'dayofwk', 'lin_intercept']\n",
    "df = df.reset_index().merge(lin_intercept_df, how='left', on=['country_1', 'channel_id', 'dayofwk']).set_index('date')\n",
    "\n",
    "# fitting a linear model to the sale values grouped by store, item and day of week (trend)\n",
    "df['linear_fit'] = (df['week_num'] - 1) * df['lin_slope'] + df['lin_intercept']\n",
    "\n",
    "# removing the increasing trend from the sale values\n",
    "df['trend_removed_tickets'] = df['tickets'] - df['linear_fit']\n",
    "\n",
    "# removing the monthly seasonality from the sale values\n",
    "differenced_df = df.groupby(['country_1', 'channel_id', 'day'])['trend_removed_tickets'].rolling(window=30, min_periods=30).\\\n",
    "apply(lambda x: x[-1]-x[0]).reset_index()\n",
    "differenced_df.columns = ['country_1', 'channel_id', 'day', 'date', 'diff']\n",
    "differenced_df = differenced_df.sort_values(by=['country_1', 'channel_id', 'date'])\n",
    "df['diff'] = differenced_df['diff'].values"
   ]
  },
  {
   "cell_type": "code",
   "execution_count": 32,
   "metadata": {},
   "outputs": [],
   "source": [
    "# normalizing the stationary sale values\n",
    "diff_mean_df = df.groupby(['country_1', 'channel_id', 'day'])['diff'].mean().reset_index()\n",
    "diff_mean_df.columns = ['country_1', 'channel_id', 'day', 'diff_mean']\n",
    "df = df.reset_index().merge(diff_mean_df, how='left', on=['country_1', 'channel_id', 'dayofwk']).set_index('date')\n",
    "\n",
    "diff_std_df = df.groupby(['country_1', 'channel_id', 'dayofwk'])['diff'].std().reset_index()\n",
    "diff_std_df.columns = ['country_1', 'channel_id', 'dayofwk', 'diff_std']\n",
    "df = df.reset_index().merge(diff_std_df, how='left', on=['country_1', 'channel_id', 'dayofwk']).set_index('date')\n",
    "\n",
    "df['norm_diff'] = (df['diff'] - df['diff_mean']) / df['diff_std']"
   ]
  },
  {
   "cell_type": "code",
   "execution_count": 33,
   "metadata": {},
   "outputs": [],
   "source": [
    "# identifying outliers\n",
    "df['outlier'] = (abs(df['norm_diff']) > 3) * 1\n",
    "\n",
    "# handling outliers (interpolation)\n",
    "corrected_tickets = []\n",
    "for ind, row in df[df['outlier']==1].iterrows():\n",
    "    past_week = ind - pd.Timedelta('7 days')\n",
    "    next_week = ind + pd.Timedelta('7 days')\n",
    "    country = row['country_1']\n",
    "    channel = row['channel_id']\n",
    "    past_week_tickets = df.loc[past_week][(df.loc[past_week]['country_1']==country) & \n",
    "    (df.loc[past_week]['channel_id']==channel)]['tickets'].values[0]\n",
    "    next_week_tickets = df.loc[next_week][(df.loc[next_week]['country_1']==country) & \n",
    "    (df.loc[next_week]['channel_id']==channel)]['tickets'].values[0]\n",
    "    interpolated_tickets = 0.5 * (past_week_tickets + next_week_tickets)\n",
    "    corrected_tickets.append(interpolated_tickets)\n",
    "df.loc[df['outlier']==1, 'tickets'] = corrected_tickets"
   ]
  },
  {
   "cell_type": "code",
   "execution_count": 34,
   "metadata": {},
   "outputs": [],
   "source": [
    "# removing useless columns\n",
    "df.drop(columns = ['linear_fit',\n",
    "                   'lin_slope', \n",
    "                   'lin_intercept', \n",
    "                   'trend_removed_tickets', \n",
    "                   'diff', \n",
    "                   'diff_mean', \n",
    "                   'diff_std', \n",
    "                   'norm_diff', \n",
    "                   'outlier'], \n",
    "                   inplace=True)"
   ]
  },
  {
   "cell_type": "code",
   "execution_count": 35,
   "metadata": {},
   "outputs": [
    {
     "data": {
      "text/html": [
       "<div>\n",
       "<style scoped>\n",
       "    .dataframe tbody tr th:only-of-type {\n",
       "        vertical-align: middle;\n",
       "    }\n",
       "\n",
       "    .dataframe tbody tr th {\n",
       "        vertical-align: top;\n",
       "    }\n",
       "\n",
       "    .dataframe thead th {\n",
       "        text-align: right;\n",
       "    }\n",
       "</style>\n",
       "<table border=\"1\" class=\"dataframe\">\n",
       "  <thead>\n",
       "    <tr style=\"text-align: right;\">\n",
       "      <th></th>\n",
       "      <th>country_1</th>\n",
       "      <th>channel_id</th>\n",
       "      <th>tickets</th>\n",
       "      <th>month</th>\n",
       "      <th>day</th>\n",
       "      <th>dayofwk</th>\n",
       "      <th>week_num</th>\n",
       "    </tr>\n",
       "    <tr>\n",
       "      <th>date</th>\n",
       "      <th></th>\n",
       "      <th></th>\n",
       "      <th></th>\n",
       "      <th></th>\n",
       "      <th></th>\n",
       "      <th></th>\n",
       "      <th></th>\n",
       "    </tr>\n",
       "  </thead>\n",
       "  <tbody>\n",
       "    <tr>\n",
       "      <th>2017-01-01</th>\n",
       "      <td>1</td>\n",
       "      <td>1</td>\n",
       "      <td>0.0</td>\n",
       "      <td>1</td>\n",
       "      <td>1</td>\n",
       "      <td>6</td>\n",
       "      <td>1</td>\n",
       "    </tr>\n",
       "    <tr>\n",
       "      <th>2017-01-02</th>\n",
       "      <td>1</td>\n",
       "      <td>1</td>\n",
       "      <td>0.0</td>\n",
       "      <td>1</td>\n",
       "      <td>2</td>\n",
       "      <td>0</td>\n",
       "      <td>1</td>\n",
       "    </tr>\n",
       "    <tr>\n",
       "      <th>2017-01-03</th>\n",
       "      <td>1</td>\n",
       "      <td>1</td>\n",
       "      <td>0.0</td>\n",
       "      <td>1</td>\n",
       "      <td>3</td>\n",
       "      <td>1</td>\n",
       "      <td>1</td>\n",
       "    </tr>\n",
       "    <tr>\n",
       "      <th>2017-01-04</th>\n",
       "      <td>1</td>\n",
       "      <td>1</td>\n",
       "      <td>0.0</td>\n",
       "      <td>1</td>\n",
       "      <td>4</td>\n",
       "      <td>2</td>\n",
       "      <td>1</td>\n",
       "    </tr>\n",
       "    <tr>\n",
       "      <th>2017-01-05</th>\n",
       "      <td>1</td>\n",
       "      <td>1</td>\n",
       "      <td>0.0</td>\n",
       "      <td>1</td>\n",
       "      <td>5</td>\n",
       "      <td>3</td>\n",
       "      <td>1</td>\n",
       "    </tr>\n",
       "  </tbody>\n",
       "</table>\n",
       "</div>"
      ],
      "text/plain": [
       "            country_1  channel_id  tickets  month  day  dayofwk  week_num\n",
       "date                                                                     \n",
       "2017-01-01          1           1      0.0      1    1        6         1\n",
       "2017-01-02          1           1      0.0      1    2        0         1\n",
       "2017-01-03          1           1      0.0      1    3        1         1\n",
       "2017-01-04          1           1      0.0      1    4        2         1\n",
       "2017-01-05          1           1      0.0      1    5        3         1"
      ]
     },
     "execution_count": 35,
     "metadata": {},
     "output_type": "execute_result"
    }
   ],
   "source": [
    "df.head()"
   ]
  },
  {
   "cell_type": "code",
   "execution_count": 36,
   "metadata": {},
   "outputs": [],
   "source": [
    "# sorting dataframe\n",
    "df = df.sort_values(by=['country_1', 'channel_id'])\n",
    "\n",
    "# building expanding mean sale values for grouped by store, item, (day of week, month, and quarter)\n",
    "# shift(1) allows to exclude the most recent sale value\n",
    "for channel in ['dayofwk', 'month']:\n",
    "    grouped_df = df.groupby(['country_1', 'channel_id', channel])['tickets'].expanding().mean().shift(1).bfill().\\\n",
    "    reset_index()\n",
    "    grouped_df.columns = ['country_1', 'channel_id', channel,'date', channel + '_ex_avg_sale']\n",
    "    grouped_df = grouped_df.sort_values(by=['channel_id', 'country_1', 'date'])\n",
    "    df[channel + '_ex_avg_sale'] = grouped_df[channel + '_ex_avg_sale'].values\n"
   ]
  },
  {
   "cell_type": "code",
   "execution_count": 37,
   "metadata": {},
   "outputs": [],
   "source": [
    "# finding store,items whose mean sales value is below the 50% percentile\n",
    "# (later, the prediction for year 2018 for these store,items will be multiplied by a factor smaller than one)\n",
    "country_channel_mean_ticket_series = df.groupby(['country_1', 'channel_id'])['tickets'].mean()\n",
    "ticket_critical_value = country_channel_mean_ticket_series.quantile(0.5)\n",
    "critical_country_channel_df = country_channel_mean_ticket_series[country_channel_mean_ticket_series < ticket_critical_value].\\\n",
    "reset_index()\n",
    "critical_country_channel_df.drop(columns=['tickets'], inplace=True)\n",
    "critical_country_channel_df['critical_country_channel'] = 1\n",
    "df = df.reset_index().merge(critical_country_channel_df, how='left', on=['country_1', 'channel_id']).\\\n",
    "set_index('date')\n",
    "df['critical_country_channel'] = df['critical_country_channel'].fillna(0)\n"
   ]
  },
  {
   "cell_type": "code",
   "execution_count": 38,
   "metadata": {},
   "outputs": [],
   "source": [
    "# sorting dataframe\n",
    "#df = df.sort_values(by=['channel_id', 'country_1'])\n",
    "\n",
    "# defining useful features for lightGBM\n",
    "used_feats = ['month_ex_avg_sale', 'dow_ex_avg_sale', 'quarter_ex_avg_sale',\n",
    "              'month', 'dayofwk', 'critical_country_channel', 'tickets']\n",
    "df = df.loc[:, used_feats]\n",
    "\n",
    "# defining training and testing data frames\n",
    "training_df = df.loc['2017']\n",
    "testing_df = df['2018']\n",
    "\n",
    "# defining a condition for critical store, items and droping the 'critical_store_item' value\n",
    "critical_country_channel_mask = testing_df['critical_country_channel']==1\n",
    "training_df.drop(columns=['critical_country_channel'], inplace=True)\n",
    "testing_df.drop(columns=['critical_country_channel'], inplace=True)\n"
   ]
  },
  {
   "cell_type": "code",
   "execution_count": 39,
   "metadata": {},
   "outputs": [],
   "source": [
    "# developing a lightGBM model, evaluating it and investigating feature importance\n",
    "X = training_df.loc[:, [col for col in training_df.columns if col not in ['tickets']]]\n",
    "y = training_df['tickets']\n",
    "X_train, X_val, y_train, y_val = train_test_split(X, y, test_size=0.2, random_state=0)\n",
    "lgb_train = lgb.Dataset(X_train, y_train)\n",
    "lgb_val = lgb.Dataset(X_val, y_val, reference=lgb_train)\n"
   ]
  },
  {
   "cell_type": "code",
   "execution_count": 40,
   "metadata": {},
   "outputs": [
    {
     "name": "stdout",
     "output_type": "stream",
     "text": [
      "Training until validation scores don't improve for 50 rounds.\n",
      "Early stopping, best iteration is:\n",
      "[180]\tvalid_0's mape: 7.25868\n"
     ]
    }
   ],
   "source": [
    "# defining the parameters and hyper-parameters. For better result, the hyper-parameters should be \n",
    "# tuned carefully.\n",
    "params = {\n",
    "    'task': 'train',\n",
    "    'boosting_type': 'gbdt',\n",
    "    'objective': 'regression',\n",
    "    'num_leaves': 10,\n",
    "    'max_depth': 3,\n",
    "    'metric' : 'mape',\n",
    "    'learning_rate': 0.1\n",
    "}\n",
    "gbm = lgb.train(params,\n",
    "                lgb_train,\n",
    "                num_boost_round=10000,\n",
    "                valid_sets=lgb_val,\n",
    "                early_stopping_rounds=50,\n",
    "                verbose_eval=2000)\n"
   ]
  },
  {
   "cell_type": "code",
   "execution_count": 41,
   "metadata": {},
   "outputs": [
    {
     "name": "stdout",
     "output_type": "stream",
     "text": [
      "validation smape:  186.6954437587059\n",
      "validation mae:  15.06004257429392\n"
     ]
    }
   ],
   "source": [
    "preds = gbm.predict(X_val, num_iteration=gbm.best_iteration)\n",
    "\n",
    "print('validation smape: ', smape(y_val, preds))\n",
    "print('validation mae: ', mean_absolute_error(y_val, preds))"
   ]
  },
  {
   "cell_type": "code",
   "execution_count": 42,
   "metadata": {},
   "outputs": [
    {
     "data": {
      "image/png": "[encoded data removed]",
      "text/plain": [
       "<Figure size 1080x360 with 2 Axes>"
      ]
     },
     "metadata": {},
     "output_type": "display_data"
    },
    {
     "data": {
      "image/png": "[encoded data removed]",
      "text/plain": [
       "<Figure size 432x288 with 1 Axes>"
      ]
     },
     "metadata": {},
     "output_type": "display_data"
    }
   ],
   "source": [
    "# investigating the distribution of the error\n",
    "error = y_val.values - preds\n",
    "\n",
    "plt.figure(figsize=(15,5))\n",
    "plt.subplot(1, 2, 1)\n",
    "plt.hist(error, EDGECOLOR='black', color='y')\n",
    "\n",
    "# comparing the distribution of the predictin and the actual \n",
    "sm.qqplot_2samples(y_val.values, preds, line='45', ax=plt.subplot(1, 2, 2))\n",
    "plt.show()\n",
    "\n",
    "# exploring the feature importance\n",
    "lgb.plot_importance(gbm, height=0.6)\n",
    "plt.show()\n"
   ]
  },
  {
   "cell_type": "code",
   "execution_count": 43,
   "metadata": {},
   "outputs": [],
   "source": [
    "# predicting sale values for year 2018\n",
    "X_train = training_df.loc[:, [col for col in training_df.columns if col not in ['tickets']]].values \n",
    "y_train = training_df['tickets'].values\n",
    "X_test = testing_df.loc[:, [col for col in testing_df.columns if col not in ['tickets']]]\n",
    "lgb_train = lgb.Dataset(X_train, y_train)\n",
    "\n",
    "# defining the parameters and hyper-parameters. For better result, the hyper-parameters should be \n",
    "# tuned carefully.\n",
    "params = {\n",
    "    'task': 'train',\n",
    "    'boosting_type': 'gbdt',\n",
    "    'objective': 'regression',\n",
    "    'num_leaves': 10,\n",
    "    'max_depth': 3,\n",
    "    'learning_rate': 0.1\n",
    "}\n",
    "\n",
    "gbm = lgb.train(params,\n",
    "                lgb_train,\n",
    "                num_boost_round=10000)\n",
    "test_preds = gbm.predict(X_test, num_iteration=gbm.best_iteration)\n"
   ]
  },
  {
   "cell_type": "code",
   "execution_count": 44,
   "metadata": {},
   "outputs": [
    {
     "data": {
      "text/html": [
       "<div>\n",
       "<style scoped>\n",
       "    .dataframe tbody tr th:only-of-type {\n",
       "        vertical-align: middle;\n",
       "    }\n",
       "\n",
       "    .dataframe tbody tr th {\n",
       "        vertical-align: top;\n",
       "    }\n",
       "\n",
       "    .dataframe thead th {\n",
       "        text-align: right;\n",
       "    }\n",
       "</style>\n",
       "<table border=\"1\" class=\"dataframe\">\n",
       "  <thead>\n",
       "    <tr style=\"text-align: right;\">\n",
       "      <th></th>\n",
       "      <th>month_ex_avg_sale</th>\n",
       "      <th>dow_ex_avg_sale</th>\n",
       "      <th>quarter_ex_avg_sale</th>\n",
       "      <th>month</th>\n",
       "      <th>dayofwk</th>\n",
       "      <th>tickets</th>\n",
       "    </tr>\n",
       "    <tr>\n",
       "      <th>date</th>\n",
       "      <th></th>\n",
       "      <th></th>\n",
       "      <th></th>\n",
       "      <th></th>\n",
       "      <th></th>\n",
       "      <th></th>\n",
       "    </tr>\n",
       "  </thead>\n",
       "  <tbody>\n",
       "    <tr>\n",
       "      <th>2018-01-01</th>\n",
       "      <td>0.0</td>\n",
       "      <td>NaN</td>\n",
       "      <td>NaN</td>\n",
       "      <td>1</td>\n",
       "      <td>0</td>\n",
       "      <td>NaN</td>\n",
       "    </tr>\n",
       "    <tr>\n",
       "      <th>2018-01-02</th>\n",
       "      <td>0.0</td>\n",
       "      <td>NaN</td>\n",
       "      <td>NaN</td>\n",
       "      <td>1</td>\n",
       "      <td>1</td>\n",
       "      <td>NaN</td>\n",
       "    </tr>\n",
       "    <tr>\n",
       "      <th>2018-01-03</th>\n",
       "      <td>0.0</td>\n",
       "      <td>NaN</td>\n",
       "      <td>NaN</td>\n",
       "      <td>1</td>\n",
       "      <td>2</td>\n",
       "      <td>NaN</td>\n",
       "    </tr>\n",
       "    <tr>\n",
       "      <th>2018-01-04</th>\n",
       "      <td>0.0</td>\n",
       "      <td>NaN</td>\n",
       "      <td>NaN</td>\n",
       "      <td>1</td>\n",
       "      <td>3</td>\n",
       "      <td>NaN</td>\n",
       "    </tr>\n",
       "    <tr>\n",
       "      <th>2018-01-05</th>\n",
       "      <td>0.0</td>\n",
       "      <td>NaN</td>\n",
       "      <td>NaN</td>\n",
       "      <td>1</td>\n",
       "      <td>4</td>\n",
       "      <td>NaN</td>\n",
       "    </tr>\n",
       "  </tbody>\n",
       "</table>\n",
       "</div>"
      ],
      "text/plain": [
       "            month_ex_avg_sale  dow_ex_avg_sale  quarter_ex_avg_sale  month  \\\n",
       "date                                                                         \n",
       "2018-01-01                0.0              NaN                  NaN      1   \n",
       "2018-01-02                0.0              NaN                  NaN      1   \n",
       "2018-01-03                0.0              NaN                  NaN      1   \n",
       "2018-01-04                0.0              NaN                  NaN      1   \n",
       "2018-01-05                0.0              NaN                  NaN      1   \n",
       "\n",
       "            dayofwk  tickets  \n",
       "date                          \n",
       "2018-01-01        0      NaN  \n",
       "2018-01-02        1      NaN  \n",
       "2018-01-03        2      NaN  \n",
       "2018-01-04        3      NaN  \n",
       "2018-01-05        4      NaN  "
      ]
     },
     "execution_count": 44,
     "metadata": {},
     "output_type": "execute_result"
    }
   ],
   "source": [
    "testing_df.head()"
   ]
  },
  {
   "cell_type": "code",
   "execution_count": 49,
   "metadata": {},
   "outputs": [
    {
     "name": "stdout",
     "output_type": "stream",
     "text": [
      "       date  country_1  channel_id  tickets\n",
      "0  1/1/2018          1           1      2.0\n",
      "1  1/2/2018          1           1      2.0\n",
      "2  1/3/2018          1           1      2.0\n",
      "3  1/4/2018          1           1      2.0\n",
      "4  1/5/2018          1           1      2.0\n"
     ]
    }
   ],
   "source": [
    "# adding prediction to testing dataframe\n",
    "testing_df.loc[:,'tickets'] = test_preds\n",
    "\n",
    "# for critical store items, the prediction is multplied by a factor slightly smaller than 1 as it \n",
    "# apears the model overpredicts them\n",
    "testing_df.loc[critical_country_channel_mask, 'tickets'] = testing_df.loc[critical_country_channel_mask, 'tickets'] * 0.99\n",
    "\n",
    "# creating submission\n",
    "sample_submission = pd.read_csv(f'{PATH2}sample.csv')\n",
    "sample_submission['tickets'] = np.round(testing_df['tickets'].values)\n",
    "sample_submission.to_csv(f'{PATH2}check.csv',index=False)\n",
    "print(sample_submission.head())\n"
   ]
  },
  {
   "cell_type": "code",
   "execution_count": null,
   "metadata": {},
   "outputs": [],
   "source": []
  }
 ],
 "metadata": {
  "kernelspec": {
   "display_name": "Python 3",
   "language": "python",
   "name": "python3"
  },
  "language_info": {
   "codemirror_mode": {
    "name": "ipython",
    "version": 3
   },
   "file_extension": ".py",
   "mimetype": "text/x-python",
   "name": "python",
   "nbconvert_exporter": "python",
   "pygments_lexer": "ipython3",
   "version": "3.6.5"
  }
 },
 "nbformat": 4,
 "nbformat_minor": 2
}
