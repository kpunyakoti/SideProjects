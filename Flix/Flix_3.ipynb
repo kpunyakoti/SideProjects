{
 "cells": [
  {
   "cell_type": "code",
   "execution_count": 1,
   "metadata": {},
   "outputs": [],
   "source": [
    "#basic essential libraries\n",
    "import pandas as pd\n",
    "import numpy as np\n",
    "import scipy as sp\n",
    "import sklearn as sk\n",
    "import random\n",
    "import string\n",
    "#statsmodel\n",
    "import statsmodels.api as sm\n",
    "from scipy import stats\n",
    "#to ignore warning messages\n",
    "import warnings\n",
    "warnings.filterwarnings('ignore')\n",
    "from subprocess import check_output"
   ]
  },
  {
   "cell_type": "code",
   "execution_count": 2,
   "metadata": {},
   "outputs": [],
   "source": [
    "#Data visualization\n",
    "import matplotlib as mpl\n",
    "import matplotlib.pyplot as plt\n",
    "import matplotlib.pylab as pylab\n",
    "import seaborn as sns\n",
    "\n",
    "#set visual parameters\n",
    "%matplotlib inline\n",
    "mpl.style.use('ggplot')\n",
    "sns.set_style('white')\n",
    "pylab.rcParams['figure.figsize'] = 10,6"
   ]
  },
  {
   "cell_type": "code",
   "execution_count": 167,
   "metadata": {},
   "outputs": [],
   "source": [
    "PATH = \"C:/Users/kpunyakoti/Desktop/Future/Flix/Data/traintest/\"\n",
    "PATH2 = \"C:/Users/kpunyakoti/Desktop/Future/Flix/Data/\""
   ]
  },
  {
   "cell_type": "code",
   "execution_count": 168,
   "metadata": {},
   "outputs": [],
   "source": [
    "train = pd.read_csv(f'{PATH}train.csv')\n",
    "test = pd.read_csv(f'{PATH}test.csv')\n",
    "dp = pd.read_csv(f'{PATH2}datapoint.csv')"
   ]
  },
  {
   "cell_type": "code",
   "execution_count": 169,
   "metadata": {},
   "outputs": [],
   "source": [
    "test.tickets = np.nan"
   ]
  },
  {
   "cell_type": "code",
   "execution_count": 170,
   "metadata": {},
   "outputs": [
    {
     "data": {
      "text/plain": [
       "country_1     int64\n",
       "channel_id    int64\n",
       "rowcount      int64\n",
       "dtype: object"
      ]
     },
     "execution_count": 170,
     "metadata": {},
     "output_type": "execute_result"
    }
   ],
   "source": [
    "dp.dtypes"
   ]
  },
  {
   "cell_type": "code",
   "execution_count": 171,
   "metadata": {},
   "outputs": [],
   "source": [
    "cols_str = ['country_1', 'channel_id']\n",
    "for x in cols_str:\n",
    "    train[x] = train[x].astype(str)\n",
    "    test[x] = test[x].astype(str)\n",
    "    dp[x] = dp[x].astype(str)"
   ]
  },
  {
   "cell_type": "code",
   "execution_count": 172,
   "metadata": {},
   "outputs": [],
   "source": [
    "train['cc'] = train.country_1+'_'+train.channel_id\n",
    "test['cc'] = test.country_1+'_'+test.channel_id\n",
    "dp['cc'] = dp.country_1+'_'+dp.channel_id"
   ]
  },
  {
   "cell_type": "code",
   "execution_count": 173,
   "metadata": {},
   "outputs": [],
   "source": [
    "train['date'] = pd.to_datetime(train['date'])\n",
    "test['date'] = pd.to_datetime(test['date'])"
   ]
  },
  {
   "cell_type": "code",
   "execution_count": 174,
   "metadata": {},
   "outputs": [
    {
     "data": {
      "text/html": [
       "<div>\n",
       "<style scoped>\n",
       "    .dataframe tbody tr th:only-of-type {\n",
       "        vertical-align: middle;\n",
       "    }\n",
       "\n",
       "    .dataframe tbody tr th {\n",
       "        vertical-align: top;\n",
       "    }\n",
       "\n",
       "    .dataframe thead th {\n",
       "        text-align: right;\n",
       "    }\n",
       "</style>\n",
       "<table border=\"1\" class=\"dataframe\">\n",
       "  <thead>\n",
       "    <tr style=\"text-align: right;\">\n",
       "      <th></th>\n",
       "      <th>country_1</th>\n",
       "      <th>channel_id</th>\n",
       "      <th>rowcount</th>\n",
       "      <th>cc</th>\n",
       "    </tr>\n",
       "  </thead>\n",
       "  <tbody>\n",
       "    <tr>\n",
       "      <th>0</th>\n",
       "      <td>20</td>\n",
       "      <td>23</td>\n",
       "      <td>3</td>\n",
       "      <td>20_23</td>\n",
       "    </tr>\n",
       "    <tr>\n",
       "      <th>1</th>\n",
       "      <td>20</td>\n",
       "      <td>26</td>\n",
       "      <td>52</td>\n",
       "      <td>20_26</td>\n",
       "    </tr>\n",
       "    <tr>\n",
       "      <th>2</th>\n",
       "      <td>20</td>\n",
       "      <td>28</td>\n",
       "      <td>411</td>\n",
       "      <td>20_28</td>\n",
       "    </tr>\n",
       "    <tr>\n",
       "      <th>3</th>\n",
       "      <td>20</td>\n",
       "      <td>29</td>\n",
       "      <td>25</td>\n",
       "      <td>20_29</td>\n",
       "    </tr>\n",
       "    <tr>\n",
       "      <th>4</th>\n",
       "      <td>20</td>\n",
       "      <td>31</td>\n",
       "      <td>123</td>\n",
       "      <td>20_31</td>\n",
       "    </tr>\n",
       "  </tbody>\n",
       "</table>\n",
       "</div>"
      ],
      "text/plain": [
       "  country_1 channel_id  rowcount     cc\n",
       "0        20         23         3  20_23\n",
       "1        20         26        52  20_26\n",
       "2        20         28       411  20_28\n",
       "3        20         29        25  20_29\n",
       "4        20         31       123  20_31"
      ]
     },
     "execution_count": 174,
     "metadata": {},
     "output_type": "execute_result"
    }
   ],
   "source": [
    "dp.head()"
   ]
  },
  {
   "cell_type": "code",
   "execution_count": 175,
   "metadata": {},
   "outputs": [],
   "source": [
    "cc_minor = dp.loc[dp['rowcount']<25, 'cc']"
   ]
  },
  {
   "cell_type": "code",
   "execution_count": 176,
   "metadata": {},
   "outputs": [],
   "source": [
    "for i in cc_minor.values:\n",
    "    test.loc[test['cc'] == i, 'tickets'] = 0"
   ]
  },
  {
   "cell_type": "code",
   "execution_count": 177,
   "metadata": {},
   "outputs": [],
   "source": [
    "cc_major = dp.loc[~dp.cc.isin(cc_minor.values), 'cc']"
   ]
  },
  {
   "cell_type": "markdown",
   "metadata": {},
   "source": [
    "#### Run from here safely"
   ]
  },
  {
   "cell_type": "code",
   "execution_count": 191,
   "metadata": {},
   "outputs": [],
   "source": [
    "new_train = train.loc[train.cc.isin(cc_major.values)]\n",
    "new_test = test.loc[test.cc.isin(cc_major.values)]"
   ]
  },
  {
   "cell_type": "code",
   "execution_count": 159,
   "metadata": {},
   "outputs": [],
   "source": [
    "def transform(df):\n",
    "    df.set_index('date', inplace=True)\n",
    "    return df\n"
   ]
  },
  {
   "cell_type": "markdown",
   "metadata": {},
   "source": [
    "## From Kernel"
   ]
  },
  {
   "cell_type": "code",
   "execution_count": 192,
   "metadata": {},
   "outputs": [],
   "source": [
    "new_train['is_train'] = True\n",
    "new_test['is_train'] = False\n",
    "df = new_train.append(new_test, ignore_index=True, sort=True)\n",
    "\n",
    "df['mon'] = df['date'].dt.month\n",
    "df['wk'] = df['date'].dt.week\n",
    "\n",
    "df['day'] = df['date'].dt.day\n",
    "df['weekday'] = df['date'].dt.dayofweek\n",
    "df['dayofyear'] = df['date'].dt.dayofyear \n",
    "\n",
    "df_train = df.groupby('is_train').get_group(True).copy()\n",
    "df_test = df.groupby('is_train').get_group(False).copy()"
   ]
  },
  {
   "cell_type": "code",
   "execution_count": 193,
   "metadata": {},
   "outputs": [
    {
     "data": {
      "text/html": [
       "<div>\n",
       "<style scoped>\n",
       "    .dataframe tbody tr th:only-of-type {\n",
       "        vertical-align: middle;\n",
       "    }\n",
       "\n",
       "    .dataframe tbody tr th {\n",
       "        vertical-align: top;\n",
       "    }\n",
       "\n",
       "    .dataframe thead th {\n",
       "        text-align: right;\n",
       "    }\n",
       "</style>\n",
       "<table border=\"1\" class=\"dataframe\">\n",
       "  <thead>\n",
       "    <tr style=\"text-align: right;\">\n",
       "      <th></th>\n",
       "      <th>cc</th>\n",
       "      <th>channel_id</th>\n",
       "      <th>country_1</th>\n",
       "      <th>date</th>\n",
       "      <th>is_train</th>\n",
       "      <th>tickets</th>\n",
       "      <th>mon</th>\n",
       "      <th>wk</th>\n",
       "      <th>day</th>\n",
       "      <th>weekday</th>\n",
       "      <th>dayofyear</th>\n",
       "    </tr>\n",
       "  </thead>\n",
       "  <tbody>\n",
       "    <tr>\n",
       "      <th>75555</th>\n",
       "      <td>1_28</td>\n",
       "      <td>28</td>\n",
       "      <td>1</td>\n",
       "      <td>2018-01-01</td>\n",
       "      <td>False</td>\n",
       "      <td>NaN</td>\n",
       "      <td>1</td>\n",
       "      <td>1</td>\n",
       "      <td>1</td>\n",
       "      <td>0</td>\n",
       "      <td>1</td>\n",
       "    </tr>\n",
       "    <tr>\n",
       "      <th>75556</th>\n",
       "      <td>1_28</td>\n",
       "      <td>28</td>\n",
       "      <td>1</td>\n",
       "      <td>2018-01-02</td>\n",
       "      <td>False</td>\n",
       "      <td>NaN</td>\n",
       "      <td>1</td>\n",
       "      <td>1</td>\n",
       "      <td>2</td>\n",
       "      <td>1</td>\n",
       "      <td>2</td>\n",
       "    </tr>\n",
       "    <tr>\n",
       "      <th>75557</th>\n",
       "      <td>1_28</td>\n",
       "      <td>28</td>\n",
       "      <td>1</td>\n",
       "      <td>2018-01-03</td>\n",
       "      <td>False</td>\n",
       "      <td>NaN</td>\n",
       "      <td>1</td>\n",
       "      <td>1</td>\n",
       "      <td>3</td>\n",
       "      <td>2</td>\n",
       "      <td>3</td>\n",
       "    </tr>\n",
       "    <tr>\n",
       "      <th>75558</th>\n",
       "      <td>1_28</td>\n",
       "      <td>28</td>\n",
       "      <td>1</td>\n",
       "      <td>2018-01-04</td>\n",
       "      <td>False</td>\n",
       "      <td>NaN</td>\n",
       "      <td>1</td>\n",
       "      <td>1</td>\n",
       "      <td>4</td>\n",
       "      <td>3</td>\n",
       "      <td>4</td>\n",
       "    </tr>\n",
       "    <tr>\n",
       "      <th>75559</th>\n",
       "      <td>1_28</td>\n",
       "      <td>28</td>\n",
       "      <td>1</td>\n",
       "      <td>2018-01-05</td>\n",
       "      <td>False</td>\n",
       "      <td>NaN</td>\n",
       "      <td>1</td>\n",
       "      <td>1</td>\n",
       "      <td>5</td>\n",
       "      <td>4</td>\n",
       "      <td>5</td>\n",
       "    </tr>\n",
       "  </tbody>\n",
       "</table>\n",
       "</div>"
      ],
      "text/plain": [
       "         cc channel_id country_1       date  is_train  tickets  mon  wk  day  \\\n",
       "75555  1_28         28         1 2018-01-01     False      NaN    1   1    1   \n",
       "75556  1_28         28         1 2018-01-02     False      NaN    1   1    2   \n",
       "75557  1_28         28         1 2018-01-03     False      NaN    1   1    3   \n",
       "75558  1_28         28         1 2018-01-04     False      NaN    1   1    4   \n",
       "75559  1_28         28         1 2018-01-05     False      NaN    1   1    5   \n",
       "\n",
       "       weekday  dayofyear  \n",
       "75555        0          1  \n",
       "75556        1          2  \n",
       "75557        2          3  \n",
       "75558        3          4  \n",
       "75559        4          5  "
      ]
     },
     "execution_count": 193,
     "metadata": {},
     "output_type": "execute_result"
    }
   ],
   "source": [
    "df_test.head()"
   ]
  },
  {
   "cell_type": "code",
   "execution_count": 194,
   "metadata": {},
   "outputs": [
    {
     "data": {
      "text/plain": [
       "Text(0.5,1,'Store 10 Sales Distribution')"
      ]
     },
     "execution_count": 194,
     "metadata": {},
     "output_type": "execute_result"
    },
    {
     "data": {
      "image/png": "[encoded data removed]",
      "text/plain": [
       "<Figure size 1296x720 with 2 Axes>"
      ]
     },
     "metadata": {},
     "output_type": "display_data"
    }
   ],
   "source": [
    "import matplotlib.pyplot as plt\n",
    "cc_1 = df_train.loc[(df_train[\"cc\"]=='20_26'), ['date',\"tickets\"]]\n",
    "cc_10 = df_train.loc[(df_train[\"cc\"]== '20_31'), ['date',\"tickets\"]]\n",
    "f = plt.figure(figsize=(18,10))\n",
    "ax1 = f.add_subplot(211)\n",
    "ax1.plot(cc_1['date'], cc_1['tickets'], '-')\n",
    "ax1.set_xlabel('Time')\n",
    "ax1.set_ylabel('Sales')\n",
    "ax1.set_title('Store 1 Sales Distribution')\n",
    "\n",
    "ax2 = f.add_subplot(212)\n",
    "ax2.plot(cc_10['date'],cc_10['tickets'], '-')\n",
    "ax2.set_xlabel('Time')\n",
    "ax2.set_ylabel('Sales')\n",
    "ax2.set_title('Store 10 Sales Distribution')"
   ]
  },
  {
   "cell_type": "code",
   "execution_count": 195,
   "metadata": {},
   "outputs": [],
   "source": [
    "df_train = df_train.sort_values(['date'],ascending = False)\n",
    "train_total = df_train.copy()\n",
    "\n",
    "tr = train_total.loc[train_total.date < '2017-11-19'] \n",
    "valid = train_total.loc[train_total.date >= '2017-11-19']\n",
    "\n",
    "tr = tr[tr.tickets>0]\n",
    "valid = valid[valid.tickets>0]"
   ]
  },
  {
   "cell_type": "code",
   "execution_count": 196,
   "metadata": {},
   "outputs": [
    {
     "data": {
      "image/png": "[encoded data removed]",
      "text/plain": [
       "<Figure size 864x360 with 2 Axes>"
      ]
     },
     "metadata": {},
     "output_type": "display_data"
    }
   ],
   "source": [
    "import seaborn as sns\n",
    "import matplotlib.pyplot as plt\n",
    "\n",
    "# check distribution of sales in train set\n",
    "fig = plt.figure(figsize=(12,5))\n",
    "ax1 = fig.add_subplot(121)\n",
    "ax2 = fig.add_subplot(122)\n",
    "\n",
    "g1 = sns.distplot(tr['tickets'],hist = True,label='skewness:{:.2f}'.format(tr['tickets'].skew()),ax = ax1)\n",
    "g1.legend()\n",
    "g1.set(xlabel = 'Tickets', ylabel = 'Density', title = 'Ticket Sales Distribution')\n",
    "g2 = sns.distplot(np.log1p(tr['tickets']),hist = True,label='skewness:{:.2f}'.format(np.log1p(tr['tickets']).skew()),ax=ax2)\n",
    "g2.legend()\n",
    "g2.set(xlabel = 'log(tickets)',ylabel = 'Density', title = 'log(tickets) Distribution')\n",
    "plt.show()\n"
   ]
  },
  {
   "cell_type": "code",
   "execution_count": 197,
   "metadata": {},
   "outputs": [],
   "source": [
    "features = ['country_1', 'channel_id', 'tickets', 'mon', 'wk', 'day', 'weekday', 'dayofyear']\n",
    "\n",
    "tr = tr[features]\n",
    "valid = valid[features]"
   ]
  },
  {
   "cell_type": "code",
   "execution_count": 198,
   "metadata": {},
   "outputs": [],
   "source": [
    "#valid.sort_index(inplace = True)\n",
    "#train.sort_index(inplace = True)\n",
    "#train_total.sort_index(inplace = True)\n",
    "\n",
    "# split x and y\n",
    "x_train, y_train = tr.drop(columns = ['tickets']), np.log1p(tr['tickets'])\n",
    "x_valid, y_valid = valid.drop(columns = ['tickets']), np.log1p(valid['tickets'])\n",
    "#x_train_total, y_train_total = train_total.drop(columns = ['Sales']), np.log1p(train_total['Sales'])"
   ]
  },
  {
   "cell_type": "code",
   "execution_count": 199,
   "metadata": {},
   "outputs": [],
   "source": [
    "# define eval metrics\n",
    "def rmspe(y, yhat):\n",
    "    return np.sqrt(np.mean((yhat/y-1) ** 2))\n",
    "\n",
    "def rmspe_xg(yhat, y):\n",
    "    y = np.expm1(y.get_label())\n",
    "    yhat = np.expm1(yhat)\n",
    "    return \"rmspe\", rmspe(y,yhat)"
   ]
  },
  {
   "cell_type": "code",
   "execution_count": 200,
   "metadata": {},
   "outputs": [
    {
     "name": "stdout",
     "output_type": "stream",
     "text": [
      "RMSPE: 0.9848\n"
     ]
    }
   ],
   "source": [
    "# try random forest\n",
    "from sklearn.ensemble import RandomForestRegressor\n",
    "\n",
    "clf = RandomForestRegressor(n_estimators = 15)\n",
    "clf.fit(x_train, y_train)\n",
    "# validation\n",
    "y_pred = clf.predict(x_valid)\n",
    "error = rmspe(np.expm1(y_valid), np.expm1(y_pred))\n",
    "print('RMSPE: {:.4f}'.format(error))"
   ]
  },
  {
   "cell_type": "code",
   "execution_count": 201,
   "metadata": {},
   "outputs": [],
   "source": [
    "features2 = ['country_1', 'channel_id', 'mon', 'wk', 'day', 'weekday', 'dayofyear']\n",
    "df_test2 = df_test[features2]"
   ]
  },
  {
   "cell_type": "code",
   "execution_count": 202,
   "metadata": {},
   "outputs": [],
   "source": [
    "test_preds = clf.predict(df_test2)"
   ]
  },
  {
   "cell_type": "code",
   "execution_count": 224,
   "metadata": {},
   "outputs": [],
   "source": [
    "df_test['tickets_y'] = np.round(np.expm1(test_preds))"
   ]
  },
  {
   "cell_type": "code",
   "execution_count": 226,
   "metadata": {},
   "outputs": [
    {
     "data": {
      "text/plain": [
       "(46284, 5)"
      ]
     },
     "execution_count": 226,
     "metadata": {},
     "output_type": "execute_result"
    }
   ],
   "source": [
    "test.shape"
   ]
  },
  {
   "cell_type": "code",
   "execution_count": 229,
   "metadata": {},
   "outputs": [
    {
     "data": {
      "text/plain": [
       "(11799, 11)"
      ]
     },
     "execution_count": 229,
     "metadata": {},
     "output_type": "execute_result"
    }
   ],
   "source": [
    "df_test.shape"
   ]
  },
  {
   "cell_type": "code",
   "execution_count": 235,
   "metadata": {},
   "outputs": [
    {
     "data": {
      "text/plain": [
       "(46284, 4)"
      ]
     },
     "execution_count": 235,
     "metadata": {},
     "output_type": "execute_result"
    }
   ],
   "source": [
    "final_test.shape"
   ]
  },
  {
   "cell_type": "code",
   "execution_count": 230,
   "metadata": {},
   "outputs": [],
   "source": [
    "final_test = test.merge(df_test, how='left')"
   ]
  },
  {
   "cell_type": "code",
   "execution_count": 232,
   "metadata": {},
   "outputs": [
    {
     "data": {
      "text/html": [
       "<div>\n",
       "<style scoped>\n",
       "    .dataframe tbody tr th:only-of-type {\n",
       "        vertical-align: middle;\n",
       "    }\n",
       "\n",
       "    .dataframe tbody tr th {\n",
       "        vertical-align: top;\n",
       "    }\n",
       "\n",
       "    .dataframe thead th {\n",
       "        text-align: right;\n",
       "    }\n",
       "</style>\n",
       "<table border=\"1\" class=\"dataframe\">\n",
       "  <thead>\n",
       "    <tr style=\"text-align: right;\">\n",
       "      <th></th>\n",
       "      <th>date</th>\n",
       "      <th>country_1</th>\n",
       "      <th>channel_id</th>\n",
       "      <th>tickets</th>\n",
       "      <th>cc</th>\n",
       "      <th>is_train</th>\n",
       "      <th>mon</th>\n",
       "      <th>wk</th>\n",
       "      <th>day</th>\n",
       "      <th>weekday</th>\n",
       "      <th>dayofyear</th>\n",
       "      <th>tickets_y</th>\n",
       "    </tr>\n",
       "  </thead>\n",
       "  <tbody>\n",
       "    <tr>\n",
       "      <th>0</th>\n",
       "      <td>2018-01-01</td>\n",
       "      <td>1</td>\n",
       "      <td>1</td>\n",
       "      <td>0.0</td>\n",
       "      <td>1_1</td>\n",
       "      <td>NaN</td>\n",
       "      <td>NaN</td>\n",
       "      <td>NaN</td>\n",
       "      <td>NaN</td>\n",
       "      <td>NaN</td>\n",
       "      <td>NaN</td>\n",
       "      <td>NaN</td>\n",
       "    </tr>\n",
       "    <tr>\n",
       "      <th>1</th>\n",
       "      <td>2018-01-02</td>\n",
       "      <td>1</td>\n",
       "      <td>1</td>\n",
       "      <td>0.0</td>\n",
       "      <td>1_1</td>\n",
       "      <td>NaN</td>\n",
       "      <td>NaN</td>\n",
       "      <td>NaN</td>\n",
       "      <td>NaN</td>\n",
       "      <td>NaN</td>\n",
       "      <td>NaN</td>\n",
       "      <td>NaN</td>\n",
       "    </tr>\n",
       "    <tr>\n",
       "      <th>2</th>\n",
       "      <td>2018-01-03</td>\n",
       "      <td>1</td>\n",
       "      <td>1</td>\n",
       "      <td>0.0</td>\n",
       "      <td>1_1</td>\n",
       "      <td>NaN</td>\n",
       "      <td>NaN</td>\n",
       "      <td>NaN</td>\n",
       "      <td>NaN</td>\n",
       "      <td>NaN</td>\n",
       "      <td>NaN</td>\n",
       "      <td>NaN</td>\n",
       "    </tr>\n",
       "    <tr>\n",
       "      <th>3</th>\n",
       "      <td>2018-01-04</td>\n",
       "      <td>1</td>\n",
       "      <td>1</td>\n",
       "      <td>0.0</td>\n",
       "      <td>1_1</td>\n",
       "      <td>NaN</td>\n",
       "      <td>NaN</td>\n",
       "      <td>NaN</td>\n",
       "      <td>NaN</td>\n",
       "      <td>NaN</td>\n",
       "      <td>NaN</td>\n",
       "      <td>NaN</td>\n",
       "    </tr>\n",
       "    <tr>\n",
       "      <th>4</th>\n",
       "      <td>2018-01-05</td>\n",
       "      <td>1</td>\n",
       "      <td>1</td>\n",
       "      <td>0.0</td>\n",
       "      <td>1_1</td>\n",
       "      <td>NaN</td>\n",
       "      <td>NaN</td>\n",
       "      <td>NaN</td>\n",
       "      <td>NaN</td>\n",
       "      <td>NaN</td>\n",
       "      <td>NaN</td>\n",
       "      <td>NaN</td>\n",
       "    </tr>\n",
       "  </tbody>\n",
       "</table>\n",
       "</div>"
      ],
      "text/plain": [
       "        date country_1 channel_id  tickets   cc is_train  mon  wk  day  \\\n",
       "0 2018-01-01         1          1      0.0  1_1      NaN  NaN NaN  NaN   \n",
       "1 2018-01-02         1          1      0.0  1_1      NaN  NaN NaN  NaN   \n",
       "2 2018-01-03         1          1      0.0  1_1      NaN  NaN NaN  NaN   \n",
       "3 2018-01-04         1          1      0.0  1_1      NaN  NaN NaN  NaN   \n",
       "4 2018-01-05         1          1      0.0  1_1      NaN  NaN NaN  NaN   \n",
       "\n",
       "   weekday  dayofyear  tickets_y  \n",
       "0      NaN        NaN        NaN  \n",
       "1      NaN        NaN        NaN  \n",
       "2      NaN        NaN        NaN  \n",
       "3      NaN        NaN        NaN  \n",
       "4      NaN        NaN        NaN  "
      ]
     },
     "execution_count": 232,
     "metadata": {},
     "output_type": "execute_result"
    }
   ],
   "source": [
    "final_test.head()"
   ]
  },
  {
   "cell_type": "code",
   "execution_count": 233,
   "metadata": {},
   "outputs": [],
   "source": [
    "feats = ['date', 'country_1', 'channel_id', 'tickets', 'tickets_y']\n",
    "final_test = final_test[feats]"
   ]
  },
  {
   "cell_type": "code",
   "execution_count": 234,
   "metadata": {},
   "outputs": [],
   "source": [
    "final_test.fillna(0, inplace=True)\n",
    "final_test['tickets'] = final_test.tickets+final_test.tickets_y\n",
    "final_test.drop('tickets_y', axis=1, inplace=True)"
   ]
  },
  {
   "cell_type": "code",
   "execution_count": 236,
   "metadata": {},
   "outputs": [],
   "source": [
    "final_test.to_csv(f'{PATH}final_test.csv')"
   ]
  },
  {
   "cell_type": "code",
   "execution_count": 132,
   "metadata": {},
   "outputs": [
    {
     "data": {
      "text/plain": [
       "Text(0.5,1,'Feature Importance')"
      ]
     },
     "execution_count": 132,
     "metadata": {},
     "output_type": "execute_result"
    },
    {
     "data": {
      "image/png": "[encoded data removed]",
      "text/plain": [
       "<Figure size 720x432 with 1 Axes>"
      ]
     },
     "metadata": {},
     "output_type": "display_data"
    }
   ],
   "source": [
    "feat_importances = pd.Series(clf.feature_importances_, index=x_train.columns)\n",
    "feat_importances.nlargest(10).sort_values(ascending = True).plot(kind='barh')\n",
    "plt.xlabel('importance')\n",
    "plt.title('Feature Importance')"
   ]
  },
  {
   "cell_type": "code",
   "execution_count": 238,
   "metadata": {},
   "outputs": [],
   "source": [
    "int_col = ['country_1', 'channel_id']\n",
    "for i in int_col:\n",
    "    df_test2[i] = df_test2[i].astype(int)\n",
    "    x_train[i] = x_train[i].astype(int)\n",
    "    x_valid[i] = x_valid[i].astype(int)"
   ]
  },
  {
   "cell_type": "code",
   "execution_count": 239,
   "metadata": {
    "scrolled": true
   },
   "outputs": [
    {
     "name": "stdout",
     "output_type": "stream",
     "text": [
      "[0]\ttrain-rmse:2.33369\teval-rmse:2.32389\ttrain-rmspe:0.81639\teval-rmspe:0.812558\n",
      "Multiple eval metrics have been passed: 'eval-rmspe' will be used for early stopping.\n",
      "\n",
      "Will train until eval-rmspe hasn't improved in 100 rounds.\n",
      "[1]\ttrain-rmse:2.29243\teval-rmse:2.28169\ttrain-rmspe:0.798584\teval-rmspe:0.793883\n",
      "[2]\ttrain-rmse:2.24579\teval-rmse:2.23552\ttrain-rmspe:0.784727\teval-rmspe:0.780504\n",
      "[3]\ttrain-rmse:2.2014\teval-rmse:2.19228\ttrain-rmspe:0.771491\teval-rmspe:0.766971\n",
      "[4]\ttrain-rmse:2.15884\teval-rmse:2.15171\ttrain-rmspe:0.760211\teval-rmspe:0.7556\n",
      "[5]\ttrain-rmse:2.1239\teval-rmse:2.11788\ttrain-rmspe:0.749614\teval-rmspe:0.745395\n",
      "[6]\ttrain-rmse:2.08446\teval-rmse:2.08176\ttrain-rmspe:0.74291\teval-rmspe:0.739629\n",
      "[7]\ttrain-rmse:2.04439\teval-rmse:2.04218\ttrain-rmspe:0.735676\teval-rmspe:0.732805\n",
      "[8]\ttrain-rmse:2.01368\teval-rmse:2.01163\ttrain-rmspe:0.732202\teval-rmspe:0.729768\n",
      "[9]\ttrain-rmse:1.95687\teval-rmse:1.956\ttrain-rmspe:0.727283\teval-rmspe:0.725405\n",
      "[10]\ttrain-rmse:1.92853\teval-rmse:1.92726\ttrain-rmspe:0.727401\teval-rmspe:0.726253\n",
      "[11]\ttrain-rmse:1.87412\teval-rmse:1.87395\ttrain-rmspe:0.723356\teval-rmspe:0.722911\n",
      "[12]\ttrain-rmse:1.82141\teval-rmse:1.82274\ttrain-rmspe:0.719394\teval-rmspe:0.719934\n",
      "[13]\ttrain-rmse:1.79011\teval-rmse:1.79173\ttrain-rmspe:0.722892\teval-rmspe:0.72573\n",
      "[14]\ttrain-rmse:1.76021\teval-rmse:1.76581\ttrain-rmspe:0.729316\teval-rmspe:0.734012\n",
      "[15]\ttrain-rmse:1.72896\teval-rmse:1.73387\ttrain-rmspe:0.730595\teval-rmspe:0.735918\n",
      "[16]\ttrain-rmse:1.69903\teval-rmse:1.70378\ttrain-rmspe:0.733751\teval-rmspe:0.73967\n",
      "[17]\ttrain-rmse:1.65186\teval-rmse:1.65802\ttrain-rmspe:0.730896\teval-rmspe:0.738179\n",
      "[18]\ttrain-rmse:1.63118\teval-rmse:1.63778\ttrain-rmspe:0.74275\teval-rmspe:0.751468\n",
      "[19]\ttrain-rmse:1.58622\teval-rmse:1.59363\ttrain-rmspe:0.740248\teval-rmspe:0.750108\n",
      "[20]\ttrain-rmse:1.56155\teval-rmse:1.57192\ttrain-rmspe:0.752352\teval-rmspe:0.764518\n",
      "[21]\ttrain-rmse:1.53796\teval-rmse:1.55131\ttrain-rmspe:0.766739\teval-rmspe:0.780233\n",
      "[22]\ttrain-rmse:1.5205\teval-rmse:1.53373\ttrain-rmspe:0.784065\teval-rmspe:0.799778\n",
      "[23]\ttrain-rmse:1.49642\teval-rmse:1.5103\ttrain-rmspe:0.791436\teval-rmspe:0.808119\n",
      "[24]\ttrain-rmse:1.45568\teval-rmse:1.47071\ttrain-rmspe:0.788006\teval-rmspe:0.807516\n",
      "[25]\ttrain-rmse:1.4334\teval-rmse:1.44762\ttrain-rmspe:0.796784\teval-rmspe:0.817406\n",
      "[26]\ttrain-rmse:1.41868\teval-rmse:1.4334\ttrain-rmspe:0.81676\teval-rmspe:0.838968\n",
      "[27]\ttrain-rmse:1.39931\teval-rmse:1.41622\ttrain-rmspe:0.834527\teval-rmspe:0.859245\n",
      "[28]\ttrain-rmse:1.38592\teval-rmse:1.40357\ttrain-rmspe:0.856728\teval-rmspe:0.88215\n",
      "[29]\ttrain-rmse:1.34877\teval-rmse:1.3674\ttrain-rmspe:0.851963\teval-rmspe:0.880505\n",
      "[30]\ttrain-rmse:1.31279\teval-rmse:1.33249\ttrain-rmspe:0.847271\teval-rmspe:0.87904\n",
      "[31]\ttrain-rmse:1.29604\teval-rmse:1.31813\ttrain-rmspe:0.866096\teval-rmspe:0.899849\n",
      "[32]\ttrain-rmse:1.28475\teval-rmse:1.30682\ttrain-rmspe:0.888179\teval-rmspe:0.924465\n",
      "[33]\ttrain-rmse:1.25081\teval-rmse:1.27354\ttrain-rmspe:0.881576\teval-rmspe:0.920242\n",
      "[34]\ttrain-rmse:1.2337\teval-rmse:1.25756\ttrain-rmspe:0.89007\teval-rmspe:0.929051\n",
      "[35]\ttrain-rmse:1.21895\teval-rmse:1.24557\ttrain-rmspe:0.908938\teval-rmspe:0.949624\n",
      "[36]\ttrain-rmse:1.20297\teval-rmse:1.22988\ttrain-rmspe:0.917292\teval-rmspe:0.959726\n",
      "[37]\ttrain-rmse:1.19399\teval-rmse:1.22128\ttrain-rmspe:0.939298\teval-rmspe:0.982827\n",
      "[38]\ttrain-rmse:1.18058\teval-rmse:1.2092\ttrain-rmspe:0.95808\teval-rmspe:1.00532\n",
      "[39]\ttrain-rmse:1.14998\teval-rmse:1.17985\ttrain-rmspe:0.949316\teval-rmspe:1.00172\n",
      "[40]\ttrain-rmse:1.14216\teval-rmse:1.17244\ttrain-rmspe:0.970773\teval-rmspe:1.0246\n",
      "[41]\ttrain-rmse:1.11296\teval-rmse:1.1448\ttrain-rmspe:0.962068\teval-rmspe:1.01957\n",
      "[42]\ttrain-rmse:1.10574\teval-rmse:1.13771\ttrain-rmspe:0.982991\teval-rmspe:1.04256\n",
      "[43]\ttrain-rmse:1.07774\teval-rmse:1.11081\ttrain-rmspe:0.97385\teval-rmspe:1.03679\n",
      "[44]\ttrain-rmse:1.07119\teval-rmse:1.10509\ttrain-rmspe:0.993932\teval-rmspe:1.05655\n",
      "[45]\ttrain-rmse:1.04438\teval-rmse:1.07927\ttrain-rmspe:0.98461\teval-rmspe:1.05229\n",
      "[46]\ttrain-rmse:1.0184\teval-rmse:1.05451\ttrain-rmspe:0.974718\teval-rmspe:1.04595\n",
      "[47]\ttrain-rmse:1.00686\teval-rmse:1.04321\ttrain-rmspe:0.980818\teval-rmspe:1.05356\n",
      "[48]\ttrain-rmse:0.995914\teval-rmse:1.03254\ttrain-rmspe:0.987463\teval-rmspe:1.0623\n",
      "[49]\ttrain-rmse:0.985488\teval-rmse:1.02394\ttrain-rmspe:0.994794\teval-rmspe:1.06928\n",
      "[50]\ttrain-rmse:0.980495\teval-rmse:1.01929\ttrain-rmspe:1.01243\teval-rmspe:1.08771\n",
      "[51]\ttrain-rmse:0.971207\teval-rmse:1.01134\ttrain-rmspe:1.02462\teval-rmspe:1.10466\n",
      "[52]\ttrain-rmse:0.962403\teval-rmse:1.00361\ttrain-rmspe:1.03752\teval-rmspe:1.12173\n",
      "[53]\ttrain-rmse:0.952791\teval-rmse:0.995257\ttrain-rmspe:1.04306\teval-rmspe:1.12561\n",
      "[54]\ttrain-rmse:0.930089\teval-rmse:0.973169\ttrain-rmspe:1.03217\teval-rmspe:1.11656\n",
      "[55]\ttrain-rmse:0.92208\teval-rmse:0.966554\ttrain-rmspe:1.04398\teval-rmspe:1.13175\n",
      "[56]\ttrain-rmse:0.913327\teval-rmse:0.95801\ttrain-rmspe:1.04865\teval-rmspe:1.13814\n",
      "[57]\ttrain-rmse:0.905762\teval-rmse:0.951626\ttrain-rmspe:1.05993\teval-rmspe:1.15437\n",
      "[58]\ttrain-rmse:0.897469\teval-rmse:0.943578\ttrain-rmspe:1.06396\teval-rmspe:1.15843\n",
      "[59]\ttrain-rmse:0.894274\teval-rmse:0.940737\ttrain-rmspe:1.07884\teval-rmspe:1.17331\n",
      "[60]\ttrain-rmse:0.873468\teval-rmse:0.920962\ttrain-rmspe:1.06565\teval-rmspe:1.16179\n",
      "[61]\ttrain-rmse:0.866719\teval-rmse:0.916178\ttrain-rmspe:1.07581\teval-rmspe:1.17339\n",
      "[62]\ttrain-rmse:0.859257\teval-rmse:0.908682\ttrain-rmspe:1.07915\teval-rmspe:1.17888\n",
      "[63]\ttrain-rmse:0.852186\teval-rmse:0.901969\ttrain-rmspe:1.08295\teval-rmspe:1.18169\n",
      "[64]\ttrain-rmse:0.845779\teval-rmse:0.896414\ttrain-rmspe:1.09151\teval-rmspe:1.19531\n",
      "[65]\ttrain-rmse:0.839696\teval-rmse:0.890091\ttrain-rmspe:1.10012\teval-rmspe:1.21159\n",
      "[66]\ttrain-rmse:0.82073\teval-rmse:0.872196\ttrain-rmspe:1.08628\teval-rmspe:1.20315\n",
      "[67]\ttrain-rmse:0.815124\teval-rmse:0.867147\ttrain-rmspe:1.09492\teval-rmspe:1.21785\n",
      "[68]\ttrain-rmse:0.809815\teval-rmse:0.86234\ttrain-rmspe:1.10402\teval-rmspe:1.2316\n",
      "[69]\ttrain-rmse:0.80326\teval-rmse:0.856655\ttrain-rmspe:1.10426\teval-rmspe:1.22964\n",
      "[70]\ttrain-rmse:0.785702\teval-rmse:0.840289\ttrain-rmspe:1.09085\teval-rmspe:1.22153\n",
      "[71]\ttrain-rmse:0.779676\teval-rmse:0.834219\ttrain-rmspe:1.09177\teval-rmspe:1.22168\n",
      "[72]\ttrain-rmse:0.762838\teval-rmse:0.817784\ttrain-rmspe:1.07771\teval-rmspe:1.20987\n",
      "[73]\ttrain-rmse:0.757342\teval-rmse:0.812237\ttrain-rmspe:1.07911\teval-rmspe:1.21206\n",
      "[74]\ttrain-rmse:0.741387\teval-rmse:0.797061\ttrain-rmspe:1.06605\teval-rmspe:1.20361\n",
      "[75]\ttrain-rmse:0.736342\teval-rmse:0.792296\ttrain-rmspe:1.06766\teval-rmspe:1.20501\n",
      "[76]\ttrain-rmse:0.734903\teval-rmse:0.791158\ttrain-rmspe:1.07681\teval-rmspe:1.21362\n",
      "[77]\ttrain-rmse:0.730377\teval-rmse:0.787515\ttrain-rmspe:1.08187\teval-rmspe:1.22274\n",
      "[78]\ttrain-rmse:0.726066\teval-rmse:0.783771\ttrain-rmspe:1.08722\teval-rmspe:1.23232\n",
      "[79]\ttrain-rmse:0.724861\teval-rmse:0.782578\ttrain-rmspe:1.09561\teval-rmspe:1.24242\n",
      "[80]\ttrain-rmse:0.720125\teval-rmse:0.777795\ttrain-rmspe:1.09572\teval-rmspe:1.24276\n",
      "[81]\ttrain-rmse:0.705498\teval-rmse:0.763732\ttrain-rmspe:1.08159\teval-rmspe:1.2315\n",
      "[82]\ttrain-rmse:0.701156\teval-rmse:0.759393\ttrain-rmspe:1.08217\teval-rmspe:1.23131\n",
      "[83]\ttrain-rmse:0.697007\teval-rmse:0.755638\ttrain-rmspe:1.08296\teval-rmspe:1.23187\n",
      "[84]\ttrain-rmse:0.683189\teval-rmse:0.742999\ttrain-rmspe:1.06926\teval-rmspe:1.22056\n",
      "[85]\ttrain-rmse:0.679281\teval-rmse:0.740545\ttrain-rmspe:1.07253\teval-rmspe:1.22528\n",
      "[86]\ttrain-rmse:0.678413\teval-rmse:0.739713\ttrain-rmspe:1.07933\teval-rmspe:1.23287\n",
      "[87]\ttrain-rmse:0.677605\teval-rmse:0.7389\ttrain-rmspe:1.08584\teval-rmspe:1.24115\n",
      "[88]\ttrain-rmse:0.674024\teval-rmse:0.73617\ttrain-rmspe:1.08881\teval-rmspe:1.24869\n",
      "[89]\ttrain-rmse:0.670619\teval-rmse:0.73375\ttrain-rmspe:1.09219\teval-rmspe:1.25396\n",
      "[90]\ttrain-rmse:0.667405\teval-rmse:0.731195\ttrain-rmspe:1.09586\teval-rmspe:1.26169\n",
      "[91]\ttrain-rmse:0.666737\teval-rmse:0.730684\ttrain-rmspe:1.10195\teval-rmspe:1.26725\n",
      "[92]\ttrain-rmse:0.653798\teval-rmse:0.718873\ttrain-rmspe:1.0863\teval-rmspe:1.25832\n",
      "[93]\ttrain-rmse:0.650875\teval-rmse:0.716551\ttrain-rmspe:1.0896\teval-rmspe:1.2653\n",
      "[94]\ttrain-rmse:0.638547\teval-rmse:0.705473\ttrain-rmspe:1.07434\teval-rmspe:1.2527\n",
      "[95]\ttrain-rmse:0.635835\teval-rmse:0.703389\ttrain-rmspe:1.0775\teval-rmspe:1.25867\n",
      "[96]\ttrain-rmse:0.624162\teval-rmse:0.692177\ttrain-rmspe:1.06305\teval-rmspe:1.24703\n",
      "[97]\ttrain-rmse:0.621734\teval-rmse:0.690521\ttrain-rmspe:1.06602\teval-rmspe:1.25208\n"
     ]
    },
    {
     "name": "stdout",
     "output_type": "stream",
     "text": [
      "[98]\ttrain-rmse:0.618058\teval-rmse:0.687338\ttrain-rmspe:1.06289\teval-rmspe:1.25\n",
      "[99]\ttrain-rmse:0.61566\teval-rmse:0.685421\ttrain-rmspe:1.06569\teval-rmspe:1.25661\n",
      "[100]\ttrain-rmse:0.613387\teval-rmse:0.683478\ttrain-rmspe:1.06852\teval-rmspe:1.26412\n",
      "[101]\ttrain-rmse:0.611274\teval-rmse:0.682597\ttrain-rmspe:1.07172\teval-rmspe:1.26731\n",
      "[102]\ttrain-rmse:0.600462\teval-rmse:0.673041\ttrain-rmspe:1.05685\teval-rmspe:1.25585\n",
      "[103]\ttrain-rmse:0.59853\teval-rmse:0.671833\ttrain-rmspe:1.05984\teval-rmspe:1.26163\n",
      "[104]\ttrain-rmse:0.596688\teval-rmse:0.670478\ttrain-rmspe:1.06272\teval-rmspe:1.26733\n",
      "[105]\ttrain-rmse:0.586631\teval-rmse:0.661052\ttrain-rmspe:1.04873\teval-rmspe:1.25696\n",
      "[106]\ttrain-rmse:0.576924\teval-rmse:0.652179\ttrain-rmspe:1.03517\teval-rmspe:1.24517\n",
      "[107]\ttrain-rmse:0.575299\teval-rmse:0.650863\ttrain-rmspe:1.03771\teval-rmspe:1.25041\n",
      "[108]\ttrain-rmse:0.574994\teval-rmse:0.650786\ttrain-rmspe:1.04096\teval-rmspe:1.2519\n",
      "[109]\ttrain-rmse:0.573506\teval-rmse:0.650233\ttrain-rmspe:1.04353\teval-rmspe:1.25483\n",
      "[110]\ttrain-rmse:0.573228\teval-rmse:0.649956\ttrain-rmspe:1.04659\teval-rmspe:1.25871\n",
      "[111]\ttrain-rmse:0.563881\teval-rmse:0.642241\ttrain-rmspe:1.0324\teval-rmspe:1.25025\n",
      "[112]\ttrain-rmse:0.562524\teval-rmse:0.641697\ttrain-rmspe:1.03486\teval-rmspe:1.25327\n",
      "Stopping. Best iteration:\n",
      "[12]\ttrain-rmse:1.82141\teval-rmse:1.82274\ttrain-rmspe:0.719394\teval-rmspe:0.719934\n",
      "\n"
     ]
    }
   ],
   "source": [
    "import xgboost as xgb\n",
    "\n",
    "params = {\"objective\": \"reg:linear\", # for linear regression\n",
    "          \"booster\" : \"gbtree\",   # use tree based models \n",
    "          \"eta\": 0.03,   # learning rate\n",
    "          \"max_depth\": 10,    # maximum depth of a tree\n",
    "          \"subsample\": 0.9,    # Subsample ratio of the training instances\n",
    "          \"colsample_bytree\": 0.7,   # Subsample ratio of columns when constructing each tree\n",
    "          \"silent\": 1,   # silent mode\n",
    "          \"seed\": 10   # Random number seed\n",
    "          }\n",
    "num_boost_round = 4000\n",
    "\n",
    "dtrain = xgb.DMatrix(x_train, y_train)\n",
    "dvalid = xgb.DMatrix(x_valid, y_valid)\n",
    "watchlist = [(dtrain, 'train'), (dvalid, 'eval')]\n",
    "# train the xgboost model\n",
    "model = xgb.train(params, dtrain, num_boost_round, evals=watchlist, \\\n",
    "  early_stopping_rounds= 100, feval=rmspe_xg, verbose_eval=True)\n"
   ]
  },
  {
   "cell_type": "code",
   "execution_count": 243,
   "metadata": {},
   "outputs": [
    {
     "name": "stdout",
     "output_type": "stream",
     "text": [
      "[0]\ttrain-rmse:2.33369\teval-rmse:2.32389\ttrain-rmspe:0.81639\teval-rmspe:0.812558\n",
      "Multiple eval metrics have been passed: 'eval-rmspe' will be used for early stopping.\n",
      "\n",
      "Will train until eval-rmspe hasn't improved in 100 rounds.\n",
      "[1]\ttrain-rmse:2.29243\teval-rmse:2.28169\ttrain-rmspe:0.798584\teval-rmspe:0.793883\n",
      "[2]\ttrain-rmse:2.24579\teval-rmse:2.23552\ttrain-rmspe:0.784727\teval-rmspe:0.780504\n",
      "[3]\ttrain-rmse:2.2014\teval-rmse:2.19228\ttrain-rmspe:0.771491\teval-rmspe:0.766971\n",
      "[4]\ttrain-rmse:2.15884\teval-rmse:2.15171\ttrain-rmspe:0.760211\teval-rmspe:0.7556\n",
      "[5]\ttrain-rmse:2.1239\teval-rmse:2.11788\ttrain-rmspe:0.749614\teval-rmspe:0.745395\n",
      "[6]\ttrain-rmse:2.08446\teval-rmse:2.08176\ttrain-rmspe:0.74291\teval-rmspe:0.739629\n",
      "[7]\ttrain-rmse:2.04439\teval-rmse:2.04218\ttrain-rmspe:0.735676\teval-rmspe:0.732805\n",
      "[8]\ttrain-rmse:2.01368\teval-rmse:2.01163\ttrain-rmspe:0.732202\teval-rmspe:0.729768\n",
      "[9]\ttrain-rmse:1.95687\teval-rmse:1.956\ttrain-rmspe:0.727283\teval-rmspe:0.725405\n",
      "[10]\ttrain-rmse:1.92853\teval-rmse:1.92726\ttrain-rmspe:0.727401\teval-rmspe:0.726253\n",
      "[11]\ttrain-rmse:1.87412\teval-rmse:1.87395\ttrain-rmspe:0.723356\teval-rmspe:0.722911\n"
     ]
    }
   ],
   "source": [
    "# validation\n",
    "num_boost_round2 = 12\n",
    "model2 = xgb.train(params, dtrain, num_boost_round2, evals=watchlist, \\\n",
    "  early_stopping_rounds= 100, feval=rmspe_xg, verbose_eval=True)"
   ]
  },
  {
   "cell_type": "code",
   "execution_count": 244,
   "metadata": {},
   "outputs": [
    {
     "name": "stdout",
     "output_type": "stream",
     "text": [
      "RMSPE: 0.7229\n"
     ]
    }
   ],
   "source": [
    "y_pred2 = model2.predict(xgb.DMatrix(x_valid))\n",
    "error = rmspe(np.expm1(y_valid), np.expm1(y_pred2))\n",
    "print('RMSPE: {:.4f}'.format(error))"
   ]
  },
  {
   "cell_type": "code",
   "execution_count": 246,
   "metadata": {},
   "outputs": [
    {
     "name": "stdout",
     "output_type": "stream",
     "text": [
      "Best weight is 0.98, RMSPE is 0.7222\n"
     ]
    },
    {
     "data": {
      "image/png": "[encoded data removed]",
      "text/plain": [
       "<Figure size 720x432 with 1 Axes>"
      ]
     },
     "metadata": {},
     "output_type": "display_data"
    }
   ],
   "source": [
    "# rmspe correction on the whole\n",
    "def correction():\n",
    "    weights = np.arange(0.98, 1.02, 0.005)\n",
    "    errors = []\n",
    "    for w in weights:\n",
    "        error = rmspe(np.expm1(y_valid), np.expm1(y_pred2*w))\n",
    "        errors.append(error)\n",
    "        \n",
    "    # make line plot\n",
    "    plt.plot(weights, errors)\n",
    "    plt.xlabel('weight')\n",
    "    plt.ylabel('RMSPE')\n",
    "    plt.title('RMSPE Curve')\n",
    "    # print min error\n",
    "    idx = errors.index(min(errors))\n",
    "    print('Best weight is {}, RMSPE is {:.4f}'.format(weights[idx], min(errors)))\n",
    "    \n",
    "correction()"
   ]
  },
  {
   "cell_type": "code",
   "execution_count": 247,
   "metadata": {},
   "outputs": [],
   "source": [
    "dtest = xgb.DMatrix(df_test2)\n",
    "# specify parameters via map\n",
    "params = {\"objective\": \"reg:linear\", # for linear regression\n",
    "          \"booster\" : \"gbtree\",   # use tree based models \n",
    "          \"eta\": 0.03,   # learning rate\n",
    "          \"max_depth\": 10,    # maximum depth of a tree\n",
    "          \"subsample\": 0.9,    # Subsample ratio of the training instances\n",
    "          \"colsample_bytree\": 0.7,   # Subsample ratio of columns when constructing each tree\n",
    "          \"silent\": 1,   # silent mode\n",
    "          \"seed\": 10   # Random number seed\n",
    "          }\n",
    "num_round = 12\n",
    "model3 = xgb.train(params, dtrain, num_round)\n",
    "# make prediction\n",
    "preds = model3.predict(dtest)"
   ]
  },
  {
   "cell_type": "code",
   "execution_count": 248,
   "metadata": {},
   "outputs": [],
   "source": [
    "df_test['tickets_y2'] = np.round(np.expm1(preds))"
   ]
  },
  {
   "cell_type": "code",
   "execution_count": 250,
   "metadata": {},
   "outputs": [],
   "source": [
    "final_test2 = test.merge(df_test, how='left')\n",
    "feats2 = ['date', 'country_1', 'channel_id', 'tickets', 'tickets_y2']\n",
    "final_test2 = final_test2[feats2]"
   ]
  },
  {
   "cell_type": "code",
   "execution_count": 251,
   "metadata": {},
   "outputs": [],
   "source": [
    "final_test2.fillna(0, inplace=True)\n",
    "final_test2['tickets'] = final_test2.tickets+final_test2.tickets_y2\n",
    "final_test2.drop('tickets_y2', axis=1, inplace=True)"
   ]
  },
  {
   "cell_type": "code",
   "execution_count": 252,
   "metadata": {},
   "outputs": [],
   "source": [
    "final_test2.to_csv(f'{PATH}final_test2.csv')"
   ]
  }
 ],
 "metadata": {
  "kernelspec": {
   "display_name": "Python 3",
   "language": "python",
   "name": "python3"
  },
  "language_info": {
   "codemirror_mode": {
    "name": "ipython",
    "version": 3
   },
   "file_extension": ".py",
   "mimetype": "text/x-python",
   "name": "python",
   "nbconvert_exporter": "python",
   "pygments_lexer": "ipython3",
   "version": "3.6.5"
  }
 },
 "nbformat": 4,
 "nbformat_minor": 2
}
