{
 "cells": [
  {
   "cell_type": "code",
   "execution_count": 135,
   "metadata": {},
   "outputs": [],
   "source": [
    "#basic essential libraries\n",
    "import pandas as pd\n",
    "import numpy as np\n",
    "import string\n",
    "from math import sqrt\n",
    "from sklearn.metrics import mean_squared_error as mse\n",
    "from sklearn.metrics import mean_absolute_error\n",
    "\n",
    "from statsmodels.tsa.arima_model import ARIMA\n",
    "\n",
    "#to ignore warning messages\n",
    "import warnings\n",
    "warnings.filterwarnings('ignore')\n",
    "from subprocess import check_output"
   ]
  },
  {
   "cell_type": "code",
   "execution_count": 2,
   "metadata": {},
   "outputs": [],
   "source": [
    "#Data visualization\n",
    "import matplotlib as mpl\n",
    "import matplotlib.pyplot as plt\n",
    "import matplotlib.pylab as pylab\n",
    "import seaborn as sns\n",
    "\n",
    "#set visual parameters\n",
    "%matplotlib inline\n",
    "mpl.style.use('ggplot')\n",
    "sns.set_style('white')\n",
    "pylab.rcParams['figure.figsize'] = 10,6"
   ]
  },
  {
   "cell_type": "code",
   "execution_count": 3,
   "metadata": {},
   "outputs": [],
   "source": [
    "PATH = \"C:/Users/kpunyakoti/Desktop/Future/Flix/Data/traintest/\"\n",
    "PATH2 = \"C:/Users/kpunyakoti/Desktop/Future/Flix/Data/\""
   ]
  },
  {
   "cell_type": "code",
   "execution_count": 4,
   "metadata": {},
   "outputs": [],
   "source": [
    "train = pd.read_csv(f'{PATH}train.csv')\n",
    "test = pd.read_csv(f'{PATH}test.csv')\n",
    "dp = pd.read_csv(f'{PATH2}datapoint.csv')"
   ]
  },
  {
   "cell_type": "code",
   "execution_count": 6,
   "metadata": {},
   "outputs": [],
   "source": [
    "cols_str = ['country_1', 'channel_id']\n",
    "for x in cols_str:\n",
    "    train[x] = train[x].astype(str)\n",
    "    test[x] = test[x].astype(str)\n",
    "    dp[x] = dp[x].astype(str)"
   ]
  },
  {
   "cell_type": "code",
   "execution_count": 7,
   "metadata": {},
   "outputs": [],
   "source": [
    "train['cc'] = train.country_1+'_'+train.channel_id\n",
    "test['cc'] = test.country_1+'_'+test.channel_id\n",
    "dp['cc'] = dp.country_1+'_'+dp.channel_id"
   ]
  },
  {
   "cell_type": "code",
   "execution_count": 8,
   "metadata": {},
   "outputs": [],
   "source": [
    "train['date'] = pd.to_datetime(train['date'])\n",
    "test['date'] = pd.to_datetime(test['date'])"
   ]
  },
  {
   "cell_type": "code",
   "execution_count": null,
   "metadata": {},
   "outputs": [],
   "source": [
    "actual_test = test.copy()"
   ]
  },
  {
   "cell_type": "code",
   "execution_count": null,
   "metadata": {},
   "outputs": [],
   "source": [
    "test.tickets = np.nan"
   ]
  },
  {
   "cell_type": "code",
   "execution_count": 9,
   "metadata": {},
   "outputs": [],
   "source": [
    "cc_minor = dp.loc[dp['rowcount']<25, 'cc']"
   ]
  },
  {
   "cell_type": "code",
   "execution_count": 10,
   "metadata": {},
   "outputs": [],
   "source": [
    "for i in cc_minor.values:\n",
    "    test.loc[test['cc'] == i, 'tickets'] = 0"
   ]
  },
  {
   "cell_type": "code",
   "execution_count": 11,
   "metadata": {},
   "outputs": [],
   "source": [
    "cc_major = dp.loc[~dp.cc.isin(cc_minor.values), 'cc']"
   ]
  },
  {
   "cell_type": "code",
   "execution_count": 12,
   "metadata": {},
   "outputs": [
    {
     "name": "stdout",
     "output_type": "stream",
     "text": [
      "605\n",
      "207\n"
     ]
    }
   ],
   "source": [
    "print(len(cc_minor.values))\n",
    "print(len(cc_major.values))"
   ]
  },
  {
   "cell_type": "markdown",
   "metadata": {},
   "source": [
    "#### Run from here safely"
   ]
  },
  {
   "cell_type": "code",
   "execution_count": 25,
   "metadata": {},
   "outputs": [],
   "source": [
    "new_train = train.loc[train.cc.isin(cc_major.values)]\n",
    "new_test = test.loc[test.cc.isin(cc_major.values)]"
   ]
  },
  {
   "cell_type": "code",
   "execution_count": 14,
   "metadata": {},
   "outputs": [],
   "source": [
    "forecast_dates = new_test.date.unique()"
   ]
  },
  {
   "cell_type": "code",
   "execution_count": 16,
   "metadata": {},
   "outputs": [],
   "source": [
    "cc_new = ['20_26', '20_28', '20_29']"
   ]
  },
  {
   "cell_type": "markdown",
   "metadata": {},
   "source": [
    "## Time Series"
   ]
  },
  {
   "cell_type": "code",
   "execution_count": 18,
   "metadata": {},
   "outputs": [],
   "source": [
    "def get_RSS(series, fitted_values):\n",
    "    fitted_values_copy = fitted_values  # original fit is left untouched\n",
    "    missing_index = list(set(series.index).difference(set(fitted_values_copy.index)))\n",
    "    if missing_index:\n",
    "        nan_series = pd.Series(index = pd.to_datetime(missing_index))\n",
    "        fitted_values_copy = fitted_values_copy.append(nan_series)\n",
    "        fitted_values_copy.sort_index(inplace = True)\n",
    "        fitted_values_copy.fillna(method = 'bfill', inplace = True)  # fill holes\n",
    "        fitted_values_copy.fillna(method = 'ffill', inplace = True)\n",
    "    return sum((fitted_values_copy - series)**2)"
   ]
  },
  {
   "cell_type": "code",
   "execution_count": 19,
   "metadata": {},
   "outputs": [],
   "source": [
    "def blackmamba(cc, train):\n",
    "    tf = train.loc[train.cc == cc, ['date','tickets']]\n",
    "    tf.sort_values('date', inplace=True)\n",
    "    tf.set_index('date', inplace=True)\n",
    "    \n",
    "    df_logscale = np.log1p(tf)\n",
    "    \n",
    "    dflogshift = df_logscale - df_logscale.shift()\n",
    "    dflogshift.dropna(inplace=True)\n",
    "    \n",
    "    results = arima_iter(df_logscale, dflogshift.tickets)\n",
    "    \n",
    "    best_pqd = min(results, key = results.get)\n",
    "    best_rss, best_model = results.get(best_pqd)\n",
    "    #print(best_rss)\n",
    "    #print(best_model)\n",
    "    \n",
    "    preds_array = best_model.forecast(steps = 22, alpha = 0.05)[0]\n",
    "    final_preds = np.round(np.expm1(preds_array))\n",
    "    \n",
    "    return final_preds"
   ]
  },
  {
   "cell_type": "code",
   "execution_count": 20,
   "metadata": {},
   "outputs": [],
   "source": [
    "def arima_iter(logscale, logshift):\n",
    "    results = {}\n",
    "    for AR in range(0,8):\n",
    "        for MA in range(0,8):\n",
    "            model = ARIMA(logscale, order = (AR,1,MA))\n",
    "            fit_is_available = False\n",
    "            results_ARIMA = None\n",
    "            try:\n",
    "                results_ARIMA = model.fit(disp = -1, method = 'css')\n",
    "                fit_is_available = True\n",
    "            except:\n",
    "                continue\n",
    "            if fit_is_available:\n",
    "                RSS = get_RSS(logshift, results_ARIMA.fittedvalues)\n",
    "                results['%d-1-%d' % (AR,MA)]=[RSS, results_ARIMA]\n",
    "    return results"
   ]
  },
  {
   "cell_type": "code",
   "execution_count": null,
   "metadata": {},
   "outputs": [],
   "source": [
    "counter = 207\n",
    "for cc in cc_major.values:\n",
    "    print('Forecasting cc: {}'.format(cc))\n",
    "    print(counter, ' left')\n",
    "    preds = blackmamba(cc,new_train)\n",
    "    \n",
    "    i = 0\n",
    "    for d in forecast_dates:\n",
    "        new_test.loc[((new_test.date == d)&(new_test.cc==cc)), 'tickets'] = preds[i]\n",
    "        i+=1    \n",
    "    counter -=1"
   ]
  },
  {
   "cell_type": "markdown",
   "metadata": {},
   "source": [
    "### Post processing"
   ]
  },
  {
   "cell_type": "code",
   "execution_count": 99,
   "metadata": {},
   "outputs": [],
   "source": [
    "new_test['tickets'] =new_test['tickets'].astype(str)"
   ]
  },
  {
   "cell_type": "code",
   "execution_count": 83,
   "metadata": {},
   "outputs": [],
   "source": [
    "test.tickets.fillna(0, inplace=True)\n",
    "test['tickets'] = test['tickets'].astype(int)"
   ]
  },
  {
   "cell_type": "code",
   "execution_count": 100,
   "metadata": {},
   "outputs": [],
   "source": [
    "final_test = pd.merge(test, new_test, how = 'left', on = ['date', 'country_1', 'channel_id', 'cc'])"
   ]
  },
  {
   "cell_type": "code",
   "execution_count": 101,
   "metadata": {},
   "outputs": [],
   "source": [
    "final_test.tickets_y.fillna(0, inplace=True)"
   ]
  },
  {
   "cell_type": "code",
   "execution_count": 104,
   "metadata": {},
   "outputs": [],
   "source": [
    "final_test['tickets_y'] = final_test['tickets_y'].astype(int)\n",
    "final_test['tickets'] = final_test.tickets_x+final_test.tickets_y"
   ]
  },
  {
   "cell_type": "code",
   "execution_count": 105,
   "metadata": {},
   "outputs": [],
   "source": [
    "final_test.drop(['tickets_x','tickets_y'], axis = 1, inplace= True)"
   ]
  },
  {
   "cell_type": "markdown",
   "metadata": {},
   "source": [
    "**Actual test set**"
   ]
  },
  {
   "cell_type": "code",
   "execution_count": 111,
   "metadata": {},
   "outputs": [],
   "source": [
    "test_actual = pd.read_csv(f'{PATH}test.csv')"
   ]
  },
  {
   "cell_type": "code",
   "execution_count": 113,
   "metadata": {},
   "outputs": [],
   "source": [
    "test_actual['date'] = pd.to_datetime(test_actual['date'])"
   ]
  },
  {
   "cell_type": "code",
   "execution_count": 115,
   "metadata": {},
   "outputs": [],
   "source": [
    "cols_str = ['country_1', 'channel_id']\n",
    "for x in cols_str:\n",
    "    test_actual[x] = test_actual[x].astype(str)"
   ]
  },
  {
   "cell_type": "code",
   "execution_count": 116,
   "metadata": {},
   "outputs": [],
   "source": [
    "test_actual['cc'] = test_actual.country_1+'_'+test_actual.channel_id\n",
    "cc_all = test_actual.cc.unique()\n",
    "len(cc_all)"
   ]
  },
  {
   "cell_type": "code",
   "execution_count": 133,
   "metadata": {},
   "outputs": [],
   "source": [
    "def rmspe(y, yhat):\n",
    "    return np.sqrt(np.mean((yhat/y-1) ** 2))\n",
    "def smape(y, yhat):\n",
    "    return 100 * np.mean(2 * np.abs(y - yhat)/(np.abs(y) + np.abs(yhat)))\n"
   ]
  },
  {
   "cell_type": "code",
   "execution_count": 132,
   "metadata": {},
   "outputs": [],
   "source": [
    "ticks = test_actual.tickets\n",
    "preds = final_test.tickets"
   ]
  },
  {
   "cell_type": "code",
   "execution_count": 136,
   "metadata": {},
   "outputs": [
    {
     "name": "stdout",
     "output_type": "stream",
     "text": [
      "RMSPE: inf\n",
      "SMAPE: 83.9071\n",
      "RMSE: 8.999527\n",
      "MAE: 1.0607 \n"
     ]
    }
   ],
   "source": [
    "error = rmspe(ticks, preds)\n",
    "smap = smape(ticks, preds)\n",
    "rmse = sqrt(mse(ticks, preds))\n",
    "print('RMSPE: {:.4f}'.format(error))\n",
    "print('SMAPE: {:.4f}'.format(smap))\n",
    "print('RMSE: {:4f}'.format(rmse))\n",
    "print('MAE: {:.4f} '.format(mean_absolute_error(ticks, preds)))"
   ]
  },
  {
   "cell_type": "markdown",
   "metadata": {},
   "source": [
    "### CC_Metrics"
   ]
  },
  {
   "cell_type": "code",
   "execution_count": 151,
   "metadata": {},
   "outputs": [],
   "source": [
    "def cc_met(cc, train):\n",
    "    tf = train.loc[train.cc == cc, ['date','tickets']]\n",
    "    tf.sort_values('date', inplace=True)\n",
    "    tf.set_index('date', inplace=True)\n",
    "    \n",
    "    df_logscale = np.log1p(tf)\n",
    "    \n",
    "    dflogshift = df_logscale - df_logscale.shift()\n",
    "    dflogshift.dropna(inplace=True)\n",
    "    \n",
    "    best_pdq, best_rss = cc_arima(df_logscale, dflogshift.tickets)\n",
    "    \n",
    "    return best_pdq, best_rss"
   ]
  },
  {
   "cell_type": "code",
   "execution_count": 150,
   "metadata": {},
   "outputs": [],
   "source": [
    "def cc_arima(logscale, logshift):\n",
    "    results = {}\n",
    "    for AR in range(0,8):\n",
    "        for MA in range(0,8):\n",
    "            model = ARIMA(logscale, order = (AR,1,MA))\n",
    "            fit_is_available = False\n",
    "            results_ARIMA = None\n",
    "            try:\n",
    "                results_ARIMA = model.fit(disp = -1, method = 'css')\n",
    "                fit_is_available = True\n",
    "            except:\n",
    "                continue\n",
    "            if fit_is_available:\n",
    "                RSS = get_RSS(logshift, results_ARIMA.fittedvalues)\n",
    "                results['%d-1-%d' % (AR,MA)]=[RSS, results_ARIMA]\n",
    "    best_pdq = min(results, key = results.get)\n",
    "    best_rss, best_model = results.get(best_pdq)\n",
    "    \n",
    "    return best_pdq, best_rss"
   ]
  },
  {
   "cell_type": "code",
   "execution_count": null,
   "metadata": {},
   "outputs": [],
   "source": [
    "df_cols = ['country', 'channel', 'best_p-d-q', 'best_RSS', 'rmse', 'mae', 'smape']\n",
    "cc_metrics = pd.DataFrame(columns=df_cols)\n",
    "row_index=0\n",
    "for cc in cc_major.values:\n",
    "    country, channel = cc.split('_')\n",
    "    pdq, rss = cc_met(cc,new_train)\n",
    "    \n",
    "    cc_metrics.loc[row_index, 'country'] = country\n",
    "    cc_metrics.loc[row_index, 'channel'] = channel\n",
    "    cc_metrics.loc[row_index, 'best_p-d-q'] = pdq\n",
    "    cc_metrics.loc[row_index, 'best_RSS'] = rss\n",
    "    \n",
    "    actuals = test_actual.loc[test_actual.cc == cc].tickets\n",
    "    predicted = final_test.loc[final_test.cc == cc].tickets\n",
    "    \n",
    "    smap = smape(actuals, predicted)\n",
    "    rmse = sqrt(mse(actuals, predicted))\n",
    "    mae = mean_absolute_error(actuals, predicted)\n",
    "    \n",
    "    cc_metrics.loc[row_index, 'rmse'] = rmse\n",
    "    cc_metrics.loc[row_index, 'smap'] = smap\n",
    "    cc_metrics.loc[row_index, 'mae'] = mae\n",
    "    \n",
    "    row_index +=1\n",
    "    print(row_index,'|', country,'|', channel,'|', pdq,'|', rss,'|', rmse,'|', smap,'|', mae)"
   ]
  },
  {
   "cell_type": "code",
   "execution_count": 171,
   "metadata": {},
   "outputs": [
    {
     "data": {
      "text/html": [
       "<div>\n",
       "<style scoped>\n",
       "    .dataframe tbody tr th:only-of-type {\n",
       "        vertical-align: middle;\n",
       "    }\n",
       "\n",
       "    .dataframe tbody tr th {\n",
       "        vertical-align: top;\n",
       "    }\n",
       "\n",
       "    .dataframe thead th {\n",
       "        text-align: right;\n",
       "    }\n",
       "</style>\n",
       "<table border=\"1\" class=\"dataframe\">\n",
       "  <thead>\n",
       "    <tr style=\"text-align: right;\">\n",
       "      <th></th>\n",
       "      <th>country</th>\n",
       "      <th>channel</th>\n",
       "      <th>best_p-d-q</th>\n",
       "      <th>best_RSS</th>\n",
       "      <th>rmse</th>\n",
       "      <th>mae</th>\n",
       "      <th>smape</th>\n",
       "    </tr>\n",
       "  </thead>\n",
       "  <tbody>\n",
       "    <tr>\n",
       "      <th>135</th>\n",
       "      <td>5</td>\n",
       "      <td>35</td>\n",
       "      <td>0-1-1</td>\n",
       "      <td>144.376</td>\n",
       "      <td>3.80789</td>\n",
       "      <td>3.04545</td>\n",
       "      <td>51.855196</td>\n",
       "    </tr>\n",
       "  </tbody>\n",
       "</table>\n",
       "</div>"
      ],
      "text/plain": [
       "    country channel best_p-d-q best_RSS     rmse      mae      smape\n",
       "135       5      35      0-1-1  144.376  3.80789  3.04545  51.855196"
      ]
     },
     "execution_count": 171,
     "metadata": {},
     "output_type": "execute_result"
    }
   ],
   "source": [
    "cc_metrics.loc[((cc_metrics.country =='5') & (cc_metrics.channel=='35'))]"
   ]
  },
  {
   "cell_type": "code",
   "execution_count": 158,
   "metadata": {},
   "outputs": [],
   "source": [
    "cc_metrics.drop('smape', axis=1, inplace=True)"
   ]
  },
  {
   "cell_type": "code",
   "execution_count": 159,
   "metadata": {},
   "outputs": [],
   "source": [
    "cc_metrics.rename(columns = {\"smap\":\"smape\"}, inplace=True)"
   ]
  },
  {
   "cell_type": "code",
   "execution_count": 161,
   "metadata": {},
   "outputs": [],
   "source": [
    "cc_metrics.to_csv(f'{PATH}cc_metrics.csv')"
   ]
  },
  {
   "cell_type": "code",
   "execution_count": 154,
   "metadata": {},
   "outputs": [],
   "source": [
    "df_cols2 = ['country', 'channel']\n",
    "cc_m = pd.DataFrame(columns=df_cols2)\n",
    "row_index=0\n",
    "for cc in cc_major.values:\n",
    "    country, channel = cc.split('_')    \n",
    "    cc_m.loc[row_index, 'country'] = country\n",
    "    cc_m.loc[row_index, 'channel'] = channel\n",
    "    row_index +=1"
   ]
  },
  {
   "cell_type": "code",
   "execution_count": null,
   "metadata": {},
   "outputs": [],
   "source": []
  }
 ],
 "metadata": {
  "kernelspec": {
   "display_name": "Python 3",
   "language": "python",
   "name": "python3"
  },
  "language_info": {
   "codemirror_mode": {
    "name": "ipython",
    "version": 3
   },
   "file_extension": ".py",
   "mimetype": "text/x-python",
   "name": "python",
   "nbconvert_exporter": "python",
   "pygments_lexer": "ipython3",
   "version": "3.6.5"
  }
 },
 "nbformat": 4,
 "nbformat_minor": 2
}
